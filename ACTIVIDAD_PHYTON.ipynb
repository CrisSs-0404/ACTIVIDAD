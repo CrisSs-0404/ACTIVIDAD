{
  "cells": [
    {
      "cell_type": "markdown",
      "metadata": {
        "id": "view-in-github",
        "colab_type": "text"
      },
      "source": [
        "<a href=\"https://colab.research.google.com/github/CrisSs-0404/ACTIVIDAD/blob/main/ACTIVIDAD_PHYTON.ipynb\" target=\"_parent\"><img src=\"https://colab.research.google.com/assets/colab-badge.svg\" alt=\"Open In Colab\"/></a>"
      ]
    },
    {
      "cell_type": "markdown",
      "source": [
        "[texto del vínculo](https://)# Sección nueva"
      ],
      "metadata": {
        "id": "oTdLemrjA1hX"
      }
    },
    {
      "cell_type": "markdown",
      "source": [
        "# TAREA\n"
      ],
      "metadata": {
        "id": "idgo3MscA4QP"
      }
    },
    {
      "cell_type": "markdown",
      "source": [
        "# Ejercicios Secuenciales"
      ],
      "metadata": {
        "id": "eh1IqBqXBPsn"
      }
    },
    {
      "cell_type": "markdown",
      "source": [
        " 1. Dada un cantidad en pesos, obtener la equivalencia en dólares, asumiendo que la unidad cambiaría es un dato desconocido.\n",
        "\n"
      ],
      "metadata": {
        "id": "pY82aQPE-hlE"
      }
    },
    {
      "cell_type": "code",
      "source": [
        "\n",
        "print(\"5 punto: Calcular el nuevo salario de un obrero si obtuvo un incremento del 25% sobre su salario anterior.\")\n",
        "salario_anterior = float(input(\"Ingrese el salario anterior: \"))\n",
        "nuevo_salario = salario_anterior * 1.25\n",
        "print(f\"Nuevo salario: ${nuevo_salario:.2f}\")\n"
      ],
      "metadata": {
        "colab": {
          "base_uri": "https://localhost:8080/"
        },
        "id": "g_6WhM8mA1_v",
        "outputId": "709553aa-504b-40c8-cc6c-c4f5e825f479"
      },
      "execution_count": null,
      "outputs": [
        {
          "output_type": "stream",
          "name": "stdout",
          "text": [
            "5 punto: Calcular el nuevo salario de un obrero si obtuvo un incremento del 25% sobre su salario anterior.\n",
            "Ingrese el salario anterior: 5\n",
            "Nuevo salario: $6.25\n"
          ]
        }
      ]
    },
    {
      "cell_type": "markdown",
      "source": [
        "2.Leer un numero y escribir el valor absoluto del mismo.\n",
        "\n"
      ],
      "metadata": {
        "id": "KwMQknSKCjOK"
      }
    },
    {
      "cell_type": "code",
      "source": [
        "\n",
        "\n",
        "numero = float(input(\"Ingrese un número: \"))\n",
        "valor_absoluto = abs(numero)\n",
        "print(f\"El valor absoluto de {numero} es {valor_absoluto}\")\n"
      ],
      "metadata": {
        "colab": {
          "base_uri": "https://localhost:8080/"
        },
        "id": "p4RL-MsFBWpP",
        "outputId": "2aa35b46-99c8-4bb3-b79c-dd8801a79511"
      },
      "execution_count": null,
      "outputs": [
        {
          "output_type": "stream",
          "name": "stdout",
          "text": [
            "Ingrese un número: -6\n",
            "El valor absoluto de -6.0 es 6.0\n"
          ]
        }
      ]
    },
    {
      "cell_type": "markdown",
      "source": [
        "3.  La presión, el volumen y la temperatura de una masa de aire se relacionan por la formula:\n",
        "\t\tmasa = (presión * volumen)/(0.37 * (temperatura + 460))\n",
        "    "
      ],
      "metadata": {
        "id": "c03m_c-uCquG"
      }
    },
    {
      "cell_type": "code",
      "source": [
        "\n",
        "\n",
        "def calcular_masa(presion, volumen, temperatura):\n",
        "  \"\"\"Calcula la masa de aire utilizando la fórmula proporcionada.\n",
        "\n",
        "  Args:\n",
        "    presion: La presión del aire.\n",
        "    volumen: El volumen del aire.\n",
        "    temperatura: La temperatura del aire.\n",
        "\n",
        "  Returns:\n",
        "    La masa del aire.\n",
        "  \"\"\"\n",
        "  masa = (presion * volumen) / (0.37 * (temperatura + 460))\n",
        "  return masa\n",
        "\n",
        "presion = float(input(\"Ingrese la presión: \"))\n",
        "volumen = float(input(\"Ingrese el volumen: \"))\n",
        "temperatura = float(input(\"Ingrese la temperatura: \"))\n",
        "\n",
        "masa = calcular_masa(presion, volumen, temperatura)\n",
        "print(f\"La masa de aire es: {masa}\")\n"
      ],
      "metadata": {
        "colab": {
          "base_uri": "https://localhost:8080/"
        },
        "id": "lvfI5E8QBfg_",
        "outputId": "20c939ef-ccbe-487d-c222-d305f421f1ef"
      },
      "execution_count": null,
      "outputs": [
        {
          "output_type": "stream",
          "name": "stdout",
          "text": [
            "Ingrese la presión: 9\n",
            "Ingrese el volumen: 3\n",
            "Ingrese la temperatura: 5\n",
            "La masa de aire es: 0.15693112467306014\n"
          ]
        }
      ]
    },
    {
      "cell_type": "markdown",
      "source": [
        "4. Calcular el numero de pulsaciones que una persona debe tener por cada 10 segundos de ejercicio, si la formula es:\n",
        "\t\tnum. pulsaciones = (220 - edad)/10\n"
      ],
      "metadata": {
        "id": "SJbka8zhJLeL"
      }
    },
    {
      "cell_type": "code",
      "source": [
        "\n",
        "\n",
        "edad = int(input(\"Ingrese la edad: \"))\n",
        "pulsaciones = (220 - edad) / 10\n",
        "print(f\"Número de pulsaciones por cada 10 segundos de ejercicio: {pulsaciones}\")\n"
      ],
      "metadata": {
        "colab": {
          "base_uri": "https://localhost:8080/"
        },
        "id": "dj23zKqWBpun",
        "outputId": "59dc25a8-c0a4-4d2e-8cb0-c8e4d3a193b8"
      },
      "execution_count": null,
      "outputs": [
        {
          "output_type": "stream",
          "name": "stdout",
          "text": [
            "Ingrese la edad: 9\n",
            "Número de pulsaciones por cada 10 segundos de ejercicio: 21.1\n"
          ]
        }
      ]
    },
    {
      "cell_type": "markdown",
      "source": [
        "5. Calcular el nuevo salario de un obrero si obtuvo un incremento del 25% sobre su salario anterior.\n"
      ],
      "metadata": {
        "id": "3gb03_Y2JVdY"
      }
    },
    {
      "cell_type": "code",
      "source": [
        "\n",
        "\n",
        "salario_anterior = float(input(\"Ingrese el salario anterior: \"))\n",
        "nuevo_salario = salario_anterior * 1.25\n",
        "print(f\"Nuevo salario: ${nuevo_salario:.2f}\")\n"
      ],
      "metadata": {
        "colab": {
          "base_uri": "https://localhost:8080/"
        },
        "id": "fSOSH4bnB0HX",
        "outputId": "0c6fcf1e-a05c-4f86-beb6-4322843a2672"
      },
      "execution_count": null,
      "outputs": [
        {
          "output_type": "stream",
          "name": "stdout",
          "text": [
            "Ingrese el salario anterior: 5\n",
            "Nuevo salario: $6.25\n"
          ]
        }
      ]
    },
    {
      "cell_type": "markdown",
      "source": [
        "6. En un hospital existen tres áreas: Ginecología, Pediatría, Traumatologia. El presupuesto anual del hospital se reparte conforme a la sig. tabla:\n",
        "\n",
        "\t\tÁrea\t\t\tPorcentaje del presupuesto\n",
        "\t\tGinecología\t\t\t40%\n",
        "\t\tTraumatologia\t\t\t30%\n",
        "\t\tPediatría\t\t\t30%\n",
        "Obtener la cantidad de dinero que recibirá cada área, para cualquier monto presupuestal.\n"
      ],
      "metadata": {
        "id": "bXXYll3pJa0q"
      }
    },
    {
      "cell_type": "code",
      "source": [
        "\n",
        "\n",
        "\n",
        "def presupuesto_hospital(presupuesto_total):\n",
        "\n",
        "\n",
        "  ginecologia = presupuesto_total * 0.40\n",
        "  traumatologia = presupuesto_total * 0.30\n",
        "  pediatria = presupuesto_total * 0.30\n",
        "\n",
        "  return {\n",
        "      \"Ginecología\": ginecologia,\n",
        "      \"Traumatología\": traumatologia,\n",
        "      \"Pediatría\": pediatria\n",
        "  }\n",
        "\n",
        "\n",
        "presupuesto_anual = float(input(\"Ingrese el presupuesto anual del hospital: \"))\n",
        "presupuestos_areas = presupuesto_hospital(presupuesto_anual)\n",
        "\n",
        "print(\"\\nPresupuesto por área:\")\n",
        "for area, presupuesto in presupuestos_areas.items():\n",
        "  print(f\"{area}: ${presupuesto:.2f}\")\n"
      ],
      "metadata": {
        "colab": {
          "base_uri": "https://localhost:8080/"
        },
        "id": "UwdRbRyoCBbn",
        "outputId": "d56de7de-61ec-40c6-b9ac-049b37d09c81"
      },
      "execution_count": null,
      "outputs": [
        {
          "output_type": "stream",
          "name": "stdout",
          "text": [
            "Ingrese el presupuesto anual del hospital: 9\n",
            "\n",
            "Presupuesto por área:\n",
            "Ginecología: $3.60\n",
            "Traumatología: $2.70\n",
            "Pediatría: $2.70\n"
          ]
        }
      ]
    },
    {
      "cell_type": "markdown",
      "source": [
        "7. El dueño de una tienda compra un articulo a un precio determinado. Obtener el precio en que lo debe vender para obtener una ganancia del 30%.\n"
      ],
      "metadata": {
        "id": "O5zNO5d7JuLv"
      }
    },
    {
      "cell_type": "code",
      "source": [
        "\n",
        "\n",
        "def calcular_precio_venta(precio_compra):\n",
        "  \"\"\"Calcula el precio de venta de un artículo para obtener una ganancia del 30%.\n",
        "\n",
        "  Args:\n",
        "    precio_compra: El precio al que se compró el artículo.\n",
        "\n",
        "  Returns:\n",
        "    El precio de venta del artículo.\n",
        "  \"\"\"\n",
        "  precio_venta = precio_compra * 1.30\n",
        "  return precio_venta\n",
        "\n",
        "\n",
        "precio_compra = float(input(\"Ingrese el precio de compra del artículo: \"))\n",
        "precio_venta = calcular_precio_venta(precio_compra)\n",
        "print(f\"El precio de venta para obtener una ganancia del 30% es: ${precio_venta:.2f}\")\n"
      ],
      "metadata": {
        "colab": {
          "base_uri": "https://localhost:8080/"
        },
        "id": "WsCPHXWeCJlv",
        "outputId": "bde6c2f9-be74-429c-9cd9-c375cb8b9348"
      },
      "execution_count": null,
      "outputs": [
        {
          "output_type": "stream",
          "name": "stdout",
          "text": [
            "Ingrese el precio de compra del artículo: 90\n",
            "El precio de venta para obtener una ganancia del 30% es: $117.00\n"
          ]
        }
      ]
    },
    {
      "cell_type": "markdown",
      "source": [
        "8. Todos los lunes, miércoles y viernes, una persona corre la misma ruta y cronometra los tiempos obtenidos. Determinar el tiempo promedio que la persona tarda en recorrer la ruta en una semana cualquiera.\n"
      ],
      "metadata": {
        "id": "SYAkHXOLJyGL"
      }
    },
    {
      "cell_type": "code",
      "source": [
        "\n",
        "def calcular_tiempo_promedio():\n",
        "\n",
        "\n",
        "    tiempos = []\n",
        "    for dia in range(7):\n",
        "        if dia == 0 or dia == 2 or dia == 4:\n",
        "            tiempo = float(input(f\"Ingrese el tiempo de la ruta del día {dia + 1} (en minutos): \"))\n",
        "            tiempos.append(tiempo)\n",
        "\n",
        "    if tiempos:\n",
        "        tiempo_promedio = sum(tiempos) / len(tiempos)\n",
        "        print(f\"El tiempo promedio de la ruta en la semana es: {tiempo_promedio:.2f} minutos\")\n",
        "    else:\n",
        "        print(\"No se ingresaron tiempos para los días de carrera.\")\n",
        "\n",
        "calcular_tiempo_promedio()\n"
      ],
      "metadata": {
        "colab": {
          "base_uri": "https://localhost:8080/"
        },
        "id": "dNm3Pl4QCQK3",
        "outputId": "df5e9419-3790-4498-8715-71bdaf7b44b3"
      },
      "execution_count": null,
      "outputs": [
        {
          "output_type": "stream",
          "name": "stdout",
          "text": [
            "Ingrese el tiempo de la ruta del día 1 (en minutos): 9\n",
            "Ingrese el tiempo de la ruta del día 3 (en minutos): 6\n",
            "Ingrese el tiempo de la ruta del día 5 (en minutos): 2\n",
            "El tiempo promedio de la ruta en la semana es: 5.67 minutos\n"
          ]
        }
      ]
    },
    {
      "cell_type": "markdown",
      "source": [
        "9. Tres personas deciden invertir su dinero para fundar una empresa. Cada una de ellas invierte una cantidad distinta. Obtener el porcentaje que cada quien invierte con respecto a la cantidad total invertida."
      ],
      "metadata": {
        "id": "fRc-NhhDJ6bL"
      }
    },
    {
      "cell_type": "code",
      "source": [
        "\n",
        "def calcular_porcentaje_inversion():\n",
        "    \"\"\"Calcula el porcentaje de inversión de cada persona.\"\"\"\n",
        "\n",
        "    inversiones = []\n",
        "    for i in range(3):\n",
        "        while True:\n",
        "            try:\n",
        "                inversion = float(input(f\"Ingrese la inversión de la persona {i+1}: \"))\n",
        "                if inversion > 0:\n",
        "                    inversiones.append(inversion)\n",
        "                    break\n",
        "                else:\n",
        "                    print(\"La inversión debe ser un valor positivo.\")\n",
        "            except ValueError:\n",
        "                print(\"Ingrese un valor numérico válido.\")\n",
        "\n",
        "    total_inversion = sum(inversiones)\n",
        "\n",
        "    for i in range(3):\n",
        "        porcentaje = (inversiones[i] / total_inversion) * 100\n",
        "        print(f\"La persona {i+1} invirtió el {porcentaje:.2f}% del total.\")\n",
        "\n",
        "calcular_porcentaje_inversion()\n"
      ],
      "metadata": {
        "colab": {
          "base_uri": "https://localhost:8080/"
        },
        "id": "zLC-LNVxCbdf",
        "outputId": "823bd662-6d60-44dd-c703-a610d3c356fc"
      },
      "execution_count": null,
      "outputs": [
        {
          "output_type": "stream",
          "name": "stdout",
          "text": [
            "Ingrese la inversión de la persona 1: 9\n",
            "Ingrese la inversión de la persona 2: 8\n",
            "Ingrese la inversión de la persona 3: 5\n",
            "La persona 1 invirtió el 40.91% del total.\n",
            "La persona 2 invirtió el 36.36% del total.\n",
            "La persona 3 invirtió el 22.73% del total.\n"
          ]
        }
      ]
    },
    {
      "cell_type": "markdown",
      "source": [
        "10. Un alumno desea saber cual será su promedio general en las tres materias mas difíciles que cursa y cual será el promedio que obtendrá en cada una de ellas. Estas materias se evalúan como se muestra a continuación:\n",
        "\n",
        "La calificación de Matemáticas se obtiene de la sig. manera:\n",
        "Examen 90%\n",
        "Promedio de tareas 10%\n",
        "En esta materia se pidió un total de tres tareas.\n",
        "\n",
        "La calificación de Física se obtiene de la sig. manera:\n",
        "Examen 80%\n",
        "Promedio de tareas 20%\n",
        "En esta materia se pidió un total de dos tareas.\n",
        "\n",
        "La calificación de Química se obtiene de la sig. manera:\n",
        "Examen 85%\n",
        "Promedio de tareas 15%\n",
        "En esta materia se pidió un promedio de tres tareas.\n"
      ],
      "metadata": {
        "id": "3GPDXR6WKES6"
      }
    },
    {
      "cell_type": "code",
      "source": [
        "\n",
        "\n",
        "def calificacion_matematicas():\n",
        "  examen = float(input(\"Ingrese la calificación del examen de matemáticas (0-100): \"))\n",
        "  tarea1 = float(input(\"Ingrese la calificación de la tarea 1 (0-100): \"))\n",
        "  tarea2 = float(input(\"Ingrese la calificación de la tarea 2 (0-100): \"))\n",
        "  tarea3 = float(input(\"Ingrese la calificación de la tarea 3 (0-100): \"))\n",
        "  promedio_tareas = (tarea1 + tarea2 + tarea3) / 3\n",
        "  calificacion_final = (examen * 0.9) + (promedio_tareas * 0.1)\n",
        "  return calificacion_final\n",
        "\n",
        "def calificacion_fisica():\n",
        "  examen = float(input(\"Ingrese la calificación del examen de física (0-100): \"))\n",
        "  tarea1 = float(input(\"Ingrese la calificación de la tarea 1 (0-100): \"))\n",
        "  tarea2 = float(input(\"Ingrese la calificación de la tarea 2 (0-100): \"))\n",
        "  promedio_tareas = (tarea1 + tarea2) / 2\n",
        "  calificacion_final = (examen * 0.8) + (promedio_tareas * 0.2)\n",
        "  return calificacion_final\n",
        "\n",
        "def calificacion_quimica():\n",
        "  examen = float(input(\"Ingrese la calificación del examen de química (0-100): \"))\n",
        "  tarea1 = float(input(\"Ingrese la calificación de la tarea 1 (0-100): \"))\n",
        "  tarea2 = float(input(\"Ingrese la calificación de la tarea 2 (0-100): \"))\n",
        "  tarea3 = float(input(\"Ingrese la calificación de la tarea 3 (0-100): \"))\n",
        "  promedio_tareas = (tarea1 + tarea2 + tarea3) / 3\n",
        "  calificacion_final = (examen * 0.85) + (promedio_tareas * 0.15)\n",
        "  return calificacion_final\n",
        "\n",
        "calif_matematicas = calificacion_matematicas()\n",
        "calif_fisica = calificacion_fisica()\n",
        "calif_quimica = calificacion_quimica()\n",
        "\n",
        "promedio_general = (calif_matematicas + calif_fisica + calif_quimica) / 3\n",
        "\n",
        "print(f\"Calificación en Matemáticas: {calif_matematicas}\")\n",
        "print(f\"Calificación en Física: {calif_fisica}\")\n",
        "print(f\"Calificación en Química: {calif_quimica}\")\n",
        "print(f\"Promedio general: {promedio_general}\")\n"
      ],
      "metadata": {
        "colab": {
          "base_uri": "https://localhost:8080/"
        },
        "id": "RHkMvDDbCvKn",
        "outputId": "7f61ccbd-b222-4603-85bd-dc13c31ceaee"
      },
      "execution_count": null,
      "outputs": [
        {
          "output_type": "stream",
          "name": "stdout",
          "text": [
            "Ingrese la calificación del examen de matemáticas (0-100): 50\n",
            "Ingrese la calificación de la tarea 1 (0-100): 35\n",
            "Ingrese la calificación de la tarea 2 (0-100): 90\n",
            "Ingrese la calificación de la tarea 3 (0-100): 50\n",
            "Ingrese la calificación del examen de física (0-100): 25\n",
            "Ingrese la calificación de la tarea 1 (0-100): 10\n",
            "Ingrese la calificación de la tarea 2 (0-100): 35\n",
            "Ingrese la calificación del examen de química (0-100): 45\n",
            "Ingrese la calificación de la tarea 1 (0-100): 25\n",
            "Ingrese la calificación de la tarea 2 (0-100): 16\n",
            "Ingrese la calificación de la tarea 3 (0-100): 2\n",
            "Calificación en Matemáticas: 50.833333333333336\n",
            "Calificación en Física: 24.5\n",
            "Calificación en Química: 40.4\n",
            "Promedio general: 38.57777777777778\n"
          ]
        }
      ]
    },
    {
      "cell_type": "markdown",
      "source": [
        "# Ejercicios Condicionales simples"
      ],
      "metadata": {
        "id": "KRkCg_FfC9iX"
      }
    },
    {
      "cell_type": "code",
      "source": [
        "\n",
        "\n",
        "def calcular_total_llantas(num_llantas):\n",
        "  \"\"\"Calcula el total a pagar por la compra de llantas.\n",
        "\n",
        "  Args:\n",
        "    num_llantas: El número de llantas que se compran.\n",
        "\n",
        "  Returns:\n",
        "    El total a pagar.\n",
        "  \"\"\"\n",
        "  if num_llantas < 5:\n",
        "    precio_unitario = 800\n",
        "  else:\n",
        "    precio_unitario = 700\n",
        "  return num_llantas * precio_unitario\n",
        "\n",
        "\n",
        "numero_llantas = int(input(\"Ingrese el número de llantas a comprar: \"))\n",
        "total_pagar = calcular_total_llantas(numero_llantas)\n",
        "print(f\"El total a pagar es: ${total_pagar}\")\n"
      ],
      "metadata": {
        "colab": {
          "base_uri": "https://localhost:8080/"
        },
        "id": "nC06poEKC_yH",
        "outputId": "defa9497-54bc-4f9e-e6a7-dc3f54b49675"
      },
      "execution_count": null,
      "outputs": [
        {
          "output_type": "stream",
          "name": "stdout",
          "text": [
            "Ingrese el número de llantas a comprar: 9\n",
            "El total a pagar es: $6300\n"
          ]
        }
      ]
    },
    {
      "cell_type": "code",
      "source": [
        "\n",
        "\n",
        "total_compra = float(input(\"Ingrese el total de la compra: \"))\n",
        "numero_aleatorio = int(input(\"Ingrese el número aleatorio (1-100): \"))\n",
        "\n",
        "if numero_aleatorio < 74:\n",
        "  descuento = total_compra * 0.15\n",
        "else:\n",
        "  descuento = total_compra * 0.20\n",
        "\n",
        "print(f\"El descuento aplicado es de: ${descuento:.2f}\")\n"
      ],
      "metadata": {
        "colab": {
          "base_uri": "https://localhost:8080/"
        },
        "id": "gRGzeUGODI73",
        "outputId": "b88d567f-0740-41b2-c1db-6634fb2e8da8"
      },
      "execution_count": null,
      "outputs": [
        {
          "output_type": "stream",
          "name": "stdout",
          "text": [
            "Ingrese el total de la compra: 9\n",
            "Ingrese el número aleatorio (1-100): 5\n",
            "El descuento aplicado es de: $1.35\n"
          ]
        }
      ]
    },
    {
      "cell_type": "code",
      "source": [
        "\n",
        "\n",
        "total_compra = float(input(\"Ingrese el total de la compra: \"))\n",
        "numero_aleatorio = int(input(\"Ingrese el número aleatorio (1-100): \"))\n",
        "\n",
        "if numero_aleatorio < 74:\n",
        "  descuento = total_compra * 0.15\n",
        "else:\n",
        "  descuento = total_compra * 0.20\n",
        "\n",
        "print(f\"El descuento aplicado es de: ${descuento:.2f}\")\n"
      ],
      "metadata": {
        "colab": {
          "base_uri": "https://localhost:8080/"
        },
        "id": "t8HyOxHeDWP4",
        "outputId": "4d7e8126-db25-48d6-ca9d-14716ec5ff46"
      },
      "execution_count": null,
      "outputs": [
        {
          "output_type": "stream",
          "name": "stdout",
          "text": [
            "Ingrese el total de la compra: 50\n",
            "Ingrese el número aleatorio (1-100): 3\n",
            "El descuento aplicado es de: $7.50\n"
          ]
        }
      ]
    },
    {
      "cell_type": "code",
      "source": [
        "\n",
        "def calcular_cuota(monto_fianza):\n",
        "  \"\"\"Calcula la cuota a pagar por una fianza.\n",
        "\n",
        "  Args:\n",
        "    monto_fianza: El monto de la fianza.\n",
        "\n",
        "  Returns:\n",
        "    La cuota a pagar.\n",
        "  \"\"\"\n",
        "  if monto_fianza < 50000:\n",
        "    cuota = monto_fianza * 0.03\n",
        "  else:\n",
        "    cuota = monto_fianza * 0.02\n",
        "  return cuota\n",
        "\n",
        "monto = float(input(\"Ingrese el monto de la fianza: \"))\n",
        "cuota = calcular_cuota(monto)\n",
        "print(f\"La cuota a pagar es: ${cuota:.2f}\")\n"
      ],
      "metadata": {
        "colab": {
          "base_uri": "https://localhost:8080/"
        },
        "id": "Lnqx9aJkDc_g",
        "outputId": "53d5b632-f272-428a-da67-d91c2a0dafc6"
      },
      "execution_count": null,
      "outputs": [
        {
          "output_type": "stream",
          "name": "stdout",
          "text": [
            "Ingrese el monto de la fianza: 25\n",
            "La cuota a pagar es: $0.75\n"
          ]
        }
      ]
    },
    {
      "cell_type": "code",
      "source": [
        "\n",
        "\n",
        "def calcular_colegiatura():\n",
        "    \"\"\"Calcula la colegiatura de un alumno según el número de materias y promedio.\"\"\"\n",
        "\n",
        "    num_materias = int(input(\"Ingrese el número de materias: \"))\n",
        "    costo_materia = float(input(\"Ingrese el costo por materia: \"))\n",
        "    promedio = float(input(\"Ingrese el promedio del último periodo: \"))\n",
        "\n",
        "    colegiatura_base = num_materias * costo_materia\n",
        "\n",
        "    if promedio >= 9:\n",
        "        colegiatura_final = colegiatura_base * 0.70\n",
        "    else:\n",
        "        colegiatura_final = colegiatura_base * 1.10\n",
        "\n",
        "    print(f\"La colegiatura a pagar es: ${colegiatura_final:.2f}\")\n",
        "\n",
        "\n",
        "calcular_colegiatura()\n"
      ],
      "metadata": {
        "id": "FapMGoliE7jv",
        "colab": {
          "base_uri": "https://localhost:8080/"
        },
        "outputId": "807b4546-aab8-4b69-af5a-000aee2b7fd9"
      },
      "execution_count": null,
      "outputs": [
        {
          "output_type": "stream",
          "name": "stdout",
          "text": [
            "Ingrese el número de materias: 5\n",
            "Ingrese el costo por materia: 688\n",
            "Ingrese el promedio del último periodo: 7\n",
            "La colegiatura a pagar es: $3784.00\n"
          ]
        }
      ]
    },
    {
      "cell_type": "markdown",
      "source": [
        "6) Una empresa de bienes raíces ofrece casas de interés social, bajo las siguientes condiciones: Si los ingresos del comprador son menores de $8000 o mas el enganche será del 15% del costo de la casa y el resto se distribuirá en pagos mensuales, a pagar en diez años. Si los ingresos del comprador son de $8000 o mas el enganche será del 30% del costo de la casa y el resto se distribuirá en pagos mensuales a pagar en 7 años.\n",
        "\tLa empresa quiere obtener cuanto debe pagar un comprador por concepto de enganche y cuanto por cada pago parcial.\n"
      ],
      "metadata": {
        "id": "Rn_WPDyg_o2S"
      }
    },
    {
      "cell_type": "code",
      "source": [
        "\n",
        "def calcular_pagos_casa():\n",
        "    \"\"\"Calcula el enganche y pagos mensuales para la compra de una casa.\"\"\"\n",
        "\n",
        "    ingresos = float(input(\"Ingrese los ingresos mensuales del comprador: \"))\n",
        "    costo_casa = float(input(\"Ingrese el costo de la casa: \"))\n",
        "\n",
        "    if ingresos < 8000:\n",
        "        enganche = costo_casa * 0.15\n",
        "        plazo_meses = 10 * 12\n",
        "    else:\n",
        "        enganche = costo_casa * 0.30\n",
        "        plazo_meses = 7 * 12\n",
        "\n",
        "    saldo_restante = costo_casa - enganche\n",
        "    pago_mensual = saldo_restante / plazo_meses\n",
        "\n",
        "    print(f\"Enganche: ${enganche:.2f}\")\n",
        "    print(f\"Pago mensual: ${pago_mensual:.2f}\")\n",
        "\n",
        "calcular_pagos_casa()\n"
      ],
      "metadata": {
        "colab": {
          "base_uri": "https://localhost:8080/"
        },
        "id": "8yNy5E5Q_4P4",
        "outputId": "0ef021cf-34ca-4d5c-9899-413a5b877e29"
      },
      "execution_count": null,
      "outputs": [
        {
          "output_type": "stream",
          "name": "stdout",
          "text": [
            "Ingrese los ingresos mensuales del comprador: 100000\n",
            "Ingrese el costo de la casa: 5000000\n",
            "Enganche: $1500000.00\n",
            "Pago mensual: $41666.67\n"
          ]
        }
      ]
    },
    {
      "cell_type": "markdown",
      "source": [
        "7) El gobierno ha establecido el programa SAR (Sistema de Ahorro para el Retiro) que consiste en que los dueños de la empresa deben obligatoriamente depositar en una cuenta bancaria un porcentaje del salario de los trabajadores; adicionalmente los trabajadores pueden solicitar a la empresa que deposite directamente una cuota fija o un porcentaje de su salario en la cuenta del SAR, la cual le será descontada de su pago.\n",
        "\tUn trabajador que ha decidido aportar a su cuenta del SAR desea saber la cantidad total de dinero que estará depositado a esa cuenta cada mes, y el pago mensual que recibirá.\n",
        "\n",
        "  \n",
        "\n"
      ],
      "metadata": {
        "id": "GFDbMU6jAJjH"
      }
    },
    {
      "cell_type": "code",
      "source": [
        "\n",
        "def calcular_ahorro_retiro():\n",
        "    \"\"\"Calcula el ahorro total en la cuenta SAR y el pago mensual del trabajador.\"\"\"\n",
        "\n",
        "    salario = float(input(\"Ingrese el salario mensual del trabajador: \"))\n",
        "    porcentaje_empresa = float(input(\"Ingrese el porcentaje de aportación de la empresa (%): \"))\n",
        "    tipo_aportacion = input(\"¿Tipo de aportación del trabajador? (cuota fija/porcentaje): \").lower()\n",
        "\n",
        "    if tipo_aportacion == \"cuota fija\":\n",
        "        cuota_fija = float(input(\"Ingrese la cuota fija de aportación del trabajador: \"))\n",
        "        aportacion_trabajador = cuota_fija\n",
        "    elif tipo_aportacion == \"porcentaje\":\n",
        "        porcentaje_trabajador = float(input(\"Ingrese el porcentaje de aportación del trabajador (%): \"))\n",
        "        aportacion_trabajador = salario * (porcentaje_trabajador / 100)\n",
        "    else:\n",
        "        print(\"Tipo de aportación inválido.\")\n",
        "        return\n",
        "\n",
        "    aportacion_empresa = salario * (porcentaje_empresa / 100)\n",
        "    ahorro_total = aportacion_trabajador + aportacion_empresa\n",
        "    pago_mensual = salario - aportacion_trabajador\n",
        "\n",
        "    print(f\"Cantidad total depositada en la cuenta SAR cada mes: ${ahorro_total:.2f}\")\n",
        "    print(f\"Pago mensual que recibirá el trabajador: ${pago_mensual:.2f}\")\n",
        "\n",
        "calcular_ahorro_retiro()\n"
      ],
      "metadata": {
        "colab": {
          "base_uri": "https://localhost:8080/"
        },
        "id": "KpY6yZUmB4Mx",
        "outputId": "61047f25-3f47-4bc6-e63d-c805f6ed0a06"
      },
      "execution_count": null,
      "outputs": [
        {
          "output_type": "stream",
          "name": "stdout",
          "text": [
            "Ingrese el salario mensual del trabajador: 40000\n",
            "Ingrese el porcentaje de aportación de la empresa (%): 50\n",
            "¿Tipo de aportación del trabajador? (cuota fija/porcentaje): 45\n",
            "Tipo de aportación inválido.\n"
          ]
        }
      ]
    },
    {
      "cell_type": "markdown",
      "source": [
        "9) El gobierno del estado de México desea reforestar un bosque que mide determinado numero de hectáreas. Si la superficie del terreno excede a 1 millón de metros cuadrados, entonces decidirá sembrar de la sig. manera:\n",
        "\n",
        "\tPorcentaje de la superficie del bosque\t\tTipo de árbol\n",
        "\t\t70%\t\t\t\t\tpino\n",
        "\t\t20%\t\t\t\t\toyamel\n",
        "\t\t10%\t\t\t\t\tcedro\n",
        "\n",
        "\tSi la superficie del terreno es menor o igual a un millón de metros cuadrados, entonces decidirá sembrar de la sig. manera:\n",
        "\tPorcentaje de la superficie del bosque\t\t    Tipo de árbol\n",
        "\t\t50%\t\t\t\t\t\t\tpino\n",
        "\t\t30%\t\t\t\t\t\t\toyamel\n",
        "\t\t20%\t\t\t\t\t\t\tcedro\n",
        "\n",
        "\tEl gobierno desea saber el numero de pinos, oyameles y cedros que tendrá que sembrar en el bosque, si se sabe que en 10 metros cuadrados caben 8 pinos, en 15 metros cuadrados caben 15 oyameles y en 18 metros cuadrados caben 10 cedros. También se sabe que una hectárea equivale a 10 mil metros cuadrados.\n"
      ],
      "metadata": {
        "id": "SD0ZC_VDCy23"
      }
    },
    {
      "cell_type": "code",
      "source": [
        "\n",
        "def calcular_arboles():\n",
        "    hectareas = float(input(\"Ingrese el número de hectáreas del bosque: \"))\n",
        "    superficie_m2 = hectareas * 10000\n",
        "\n",
        "    if superficie_m2 > 1000000:\n",
        "        pinos_porcentaje = 0.70\n",
        "        oyameles_porcentaje = 0.20\n",
        "        cedros_porcentaje = 0.10\n",
        "    else:\n",
        "        pinos_porcentaje = 0.50\n",
        "        oyameles_porcentaje = 0.30\n",
        "        cedros_porcentaje = 0.20\n",
        "\n",
        "    pinos_m2 = superficie_m2 * pinos_porcentaje\n",
        "    oyameles_m2 = superficie_m2 * oyameles_porcentaje\n",
        "    cedros_m2 = superficie_m2 * cedros_porcentaje\n",
        "\n",
        "    num_pinos = pinos_m2 / 10 * 8\n",
        "    num_oyameles = oyameles_m2 / 15 * 15\n",
        "    num_cedros = cedros_m2 / 18 * 10\n",
        "\n",
        "    print(f\"Número de pinos a sembrar: {int(num_pinos)}\")\n",
        "    print(f\"Número de oyameles a sembrar: {int(num_oyameles)}\")\n",
        "    print(f\"Número de cedros a sembrar: {int(num_cedros)}\")\n",
        "\n",
        "calcular_arboles()\n"
      ],
      "metadata": {
        "colab": {
          "base_uri": "https://localhost:8080/"
        },
        "id": "YyvPYJoODKXL",
        "outputId": "d9fe46cb-bd66-4b13-d5ef-a8066130215b"
      },
      "execution_count": null,
      "outputs": [
        {
          "output_type": "stream",
          "name": "stdout",
          "text": [
            "Ingrese el número de hectáreas del bosque: 20\n",
            "Número de pinos a sembrar: 80000\n",
            "Número de oyameles a sembrar: 60000\n",
            "Número de cedros a sembrar: 22222\n"
          ]
        }
      ]
    },
    {
      "cell_type": "markdown",
      "source": [
        "10) Una fabrica ha sido sometida a un programa de control de contaminación para lo cual se efectúa una revisión de los puntos IMECA generados por la fabrica. El programa de control de contaminación consiste en medir los puntos IMECA que emite la fabrica en cinco días de una semana y si el promedio es superior a los 170 puntos entonces tendrá la sanción de parar su producción por una semana y una multa del 50% de las ganancias diarias cuando no se detiene la producción. Si el promedio obtenido de puntos IMECA es de 170 o menor entonces no tendrá ni sanción ni multa. El dueño de la fabrica desea saber cuanto dinero perderá después de ser sometido a la revisión."
      ],
      "metadata": {
        "id": "INPHZpQLDRCn"
      }
    },
    {
      "cell_type": "code",
      "source": [
        "\n",
        "def calcular_perdida_fabrica():\n",
        "    \"\"\"Calcula la pérdida de la fábrica debido a sanciones por contaminación.\"\"\"\n",
        "\n",
        "    ganancias_diarias = float(input(\"Ingrese las ganancias diarias de la fábrica: \"))\n",
        "    puntos_imeca = []\n",
        "    for dia in range(5):\n",
        "        while True:\n",
        "            try:\n",
        "                puntos = float(input(f\"Ingrese los puntos IMECA del día {dia + 1}: \"))\n",
        "                if puntos >= 0:  # Validar que los puntos IMECA no sean negativos\n",
        "                    puntos_imeca.append(puntos)\n",
        "                    break\n",
        "                else:\n",
        "                    print(\"Los puntos IMECA no pueden ser negativos.\")\n",
        "            except ValueError:\n",
        "                print(\"Ingrese un valor numérico válido para los puntos IMECA.\")\n",
        "\n",
        "    promedio_imeca = sum(puntos_imeca) / len(puntos_imeca)\n",
        "\n",
        "    if promedio_imeca > 170:\n",
        "        perdida_produccion = ganancias_diarias * 7\n",
        "        multa = ganancias_diarias * 0.50 * 7\n",
        "        perdida_total = perdida_produccion + multa\n",
        "        print(f\"La fábrica tendrá que parar su producción por una semana y pagar una multa.\")\n",
        "        print(f\"Pérdida total: ${perdida_total:.2f}\")\n",
        "    else:\n",
        "        print(\"La fábrica no tendrá sanciones ni multas.\")\n",
        "        print(\"Pérdida total: $0.00\")\n",
        "\n",
        "calcular_perdida_fabrica()\n"
      ],
      "metadata": {
        "colab": {
          "base_uri": "https://localhost:8080/"
        },
        "id": "z-keR7PBDTbd",
        "outputId": "e33d4dfd-c825-4e77-9d1b-8959d79ca4e4"
      },
      "execution_count": null,
      "outputs": [
        {
          "output_type": "stream",
          "name": "stdout",
          "text": [
            "Ingrese las ganancias diarias de la fábrica: 200\n",
            "Ingrese los puntos IMECA del día 1: 10\n",
            "Ingrese los puntos IMECA del día 2: 21\n",
            "Ingrese los puntos IMECA del día 3: 25\n",
            "Ingrese los puntos IMECA del día 4: 32\n",
            "Ingrese los puntos IMECA del día 5: 25\n",
            "La fábrica no tendrá sanciones ni multas.\n",
            "Pérdida total: $0.00\n"
          ]
        }
      ]
    },
    {
      "cell_type": "markdown",
      "source": [
        "11) Una persona se encuentra con un problema de comprar un automóvil o un terreno, los cuales cuestan exactamente lo mismo. Sabe que mientras el automóvil se devalúa, con el terreno sucede lo contrario. Esta persona comprara el automóvil si al cabo de tres años la devaluación de este no es mayor que la mitad del incremento del valor del terreno. Ayúdale a esta persona a determinar si debe o no comprar el automóvil"
      ],
      "metadata": {
        "id": "eq6jFk5EDeYq"
      }
    },
    {
      "cell_type": "code",
      "source": [
        "def evaluar_compra():\n",
        "    \"\"\"Evalúa si es mejor comprar un automóvil o un terreno.\"\"\"\n",
        "\n",
        "    costo_auto = float(input(\"Ingrese el costo del automóvil: \"))\n",
        "    costo_terreno = float(input(\"Ingrese el costo del terreno: \"))\n",
        "\n",
        "    if costo_auto != costo_terreno:\n",
        "        print(\"El costo del automóvil y el terreno deben ser iguales.\")\n",
        "        return\n",
        "\n",
        "    devaluacion_anual_auto = float(input(\"Ingrese el porcentaje de devaluación anual del automóvil (%): \"))\n",
        "    incremento_anual_terreno = float(input(\"Ingrese el porcentaje de incremento anual del terreno (%): \"))\n",
        "\n",
        "    devaluacion_auto_3_anios = costo_auto * (1 - (devaluacion_anual_auto / 100))**3\n",
        "    incremento_terreno_3_anios = costo_terreno * (1 + (incremento_anual_terreno / 100))**3\n",
        "\n",
        "    devaluacion_total_auto = costo_auto - devaluacion_auto_3_anios\n",
        "    incremento_total_terreno = incremento_terreno_3_anios - costo_terreno\n",
        "\n",
        "    if devaluacion_total_auto <= incremento_total_terreno / 2:\n",
        "        print(\"Debe comprar el automóvil.\")\n",
        "    else:\n",
        "        print(\"No debe comprar el automóvil.\")\n",
        "\n",
        "evaluar_compra()\n"
      ],
      "metadata": {
        "colab": {
          "base_uri": "https://localhost:8080/"
        },
        "id": "_h8IDpxvDg1u",
        "outputId": "654533ec-47ae-4e26-8f6a-a6588e3f1e26"
      },
      "execution_count": null,
      "outputs": [
        {
          "output_type": "stream",
          "name": "stdout",
          "text": [
            "Ingrese el costo del automóvil: 2000\n",
            "Ingrese el costo del terreno: 2100\n",
            "El costo del automóvil y el terreno deben ser iguales.\n"
          ]
        }
      ]
    },
    {
      "cell_type": "markdown",
      "source": [
        "# Ejercicios Secuenciales Compuestos"
      ],
      "metadata": {
        "id": "t8IUS3fmDqtC"
      }
    },
    {
      "cell_type": "markdown",
      "source": [
        "1) En una fabrica de computadoras se planea ofrecer a los clientes un descuento que dependerá del numero de computadoras que compre. Si las computadoras son menos de cinco se les dará un 10% de descuento sobre el total de la compra; si el numero de computadoras es mayor o igual a cinco pero menos de diez se le otorga un 20% de descuento; y si son 10 o mas se les da un 40% de descuento. El precio de cada computadora es de $11,000\n"
      ],
      "metadata": {
        "id": "eIwsLNzEDyrO"
      }
    },
    {
      "cell_type": "code",
      "source": [
        "\n",
        "def calcular_descuento_computadoras():\n",
        "    \"\"\"Calcula el descuento y el precio final de la compra de computadoras.\"\"\"\n",
        "\n",
        "    num_computadoras = int(input(\"Ingrese el número de computadoras que desea comprar: \"))\n",
        "\n",
        "    precio_unitario = 11000\n",
        "    total_compra = num_computadoras * precio_unitario\n",
        "\n",
        "    if num_computadoras < 5:\n",
        "        descuento = total_compra * 0.10\n",
        "    elif num_computadoras < 10:\n",
        "        descuento = total_compra * 0.20\n",
        "    else:\n",
        "        descuento = total_compra * 0.40\n",
        "\n",
        "    precio_final = total_compra - descuento\n",
        "\n",
        "    print(f\"Total de la compra: ${total_compra:.2f}\")\n",
        "    print(f\"Descuento aplicado: ${descuento:.2f}\")\n",
        "    print(f\"Precio final: ${precio_final:.2f}\")\n",
        "\n",
        "calcular_descuento_computadoras()\n"
      ],
      "metadata": {
        "colab": {
          "base_uri": "https://localhost:8080/"
        },
        "id": "PTfRDf4DD0Pl",
        "outputId": "b506259b-b877-4bee-e7e6-2340712b1bdf"
      },
      "execution_count": null,
      "outputs": [
        {
          "output_type": "stream",
          "name": "stdout",
          "text": [
            "Ingrese el número de computadoras que desea comprar: 21\n",
            "Total de la compra: $231000.00\n",
            "Descuento aplicado: $92400.00\n",
            "Precio final: $138600.00\n"
          ]
        }
      ]
    },
    {
      "cell_type": "markdown",
      "source": [
        "2) En una llantera se ha establecido una promoción de las llantas marca “Ponchadas”, dicha promoción consiste en lo siguiente:\n",
        "\tSi se compran menos de cinco llantas el precio es de $300 cada una, de $250 si se compran de cinco a 10 y de $200 si se compran mas de 10.\n",
        "\tObtener la cantidad de dinero que una persona tiene que pagar por cada una de las llantas que compra y la que tiene que pagar por el total de la compra.\n"
      ],
      "metadata": {
        "id": "imz_931aENW7"
      }
    },
    {
      "cell_type": "code",
      "source": [
        "\n",
        "def calcular_precio_llantas():\n",
        "    \"\"\"Calcula el precio por llanta y el total de la compra de llantas Ponchadas.\"\"\"\n",
        "\n",
        "    num_llantas = int(input(\"Ingrese el número de llantas a comprar: \"))\n",
        "\n",
        "    if num_llantas < 5:\n",
        "        precio_unitario = 300\n",
        "    elif num_llantas <= 10:\n",
        "        precio_unitario = 250\n",
        "    else:\n",
        "        precio_unitario = 200\n",
        "\n",
        "    total_compra = num_llantas * precio_unitario\n",
        "\n",
        "    print(f\"Precio por llanta: ${precio_unitario:.2f}\")\n",
        "    print(f\"Total de la compra: ${total_compra:.2f}\")\n",
        "\n",
        "calcular_precio_llantas()\n"
      ],
      "metadata": {
        "colab": {
          "base_uri": "https://localhost:8080/"
        },
        "id": "z132S5GdEUAu",
        "outputId": "ade7e301-90b2-4f58-99a4-9fa7687c0cac"
      },
      "execution_count": null,
      "outputs": [
        {
          "output_type": "stream",
          "name": "stdout",
          "text": [
            "Ingrese el número de llantas a comprar: 4\n",
            "Precio por llanta: $300.00\n",
            "Total de la compra: $1200.00\n"
          ]
        }
      ]
    },
    {
      "cell_type": "markdown",
      "source": [
        "3) En un juego de preguntas a las que se responde “Si” o “No” gana quien responda correctamente las tres preguntas. Si se responde mal a cualquiera de ellas ya no se pregunta la siguiente y termina el juego. Las preguntas son:\n",
        "\n",
        "\t1. Colon descubrió América?\n",
        "\t2. La independencia de México fue en el año 1810?\n",
        "\t3. The Doors fue un grupo de rock Americano?\n"
      ],
      "metadata": {
        "id": "iwF9BMKtEaf4"
      }
    },
    {
      "cell_type": "code",
      "source": [
        "\n",
        "def jugar_preguntas():\n",
        "    \"\"\"Simula un juego de preguntas y determina si el jugador gana.\"\"\"\n",
        "\n",
        "    preguntas = [\n",
        "        {\"pregunta\": \"¿Colón descubrió América?\", \"respuesta\": \"Si\"},\n",
        "        {\"pregunta\": \"¿La independencia de México fue en el año 1810?\", \"respuesta\": \"Si\"},\n",
        "        {\"pregunta\": \"¿The Doors fue un grupo de rock americano?\", \"respuesta\": \"Si\"}\n",
        "    ]\n",
        "\n",
        "    respuestas_correctas = 0\n",
        "\n",
        "    for pregunta_data in preguntas:\n",
        "        respuesta_usuario = input(pregunta_data[\"pregunta\"] + \" (Si/No): \").capitalize()\n",
        "\n",
        "        if respuesta_usuario == pregunta_data[\"respuesta\"]:\n",
        "            respuestas_correctas += 1\n",
        "        else:\n",
        "            print(\"Respuesta incorrecta. Fin del juego.\")\n",
        "            break\n",
        "\n",
        "    if respuestas_correctas == 3:\n",
        "        print(\"¡Felicidades! Has ganado el juego.\")\n",
        "    elif respuestas_correctas > 0:\n",
        "        print(f\"Respondiste correctamente {respuestas_correctas} preguntas.\")\n",
        "\n",
        "jugar_preguntas()\n"
      ],
      "metadata": {
        "colab": {
          "base_uri": "https://localhost:8080/"
        },
        "id": "OkimvC0bEeFg",
        "outputId": "26587958-5829-484e-8f00-36b5460133e1"
      },
      "execution_count": null,
      "outputs": [
        {
          "output_type": "stream",
          "name": "stdout",
          "text": [
            "¿Colón descubrió América? (Si/No): SI\n",
            "¿La independencia de México fue en el año 1810? (Si/No): NO\n",
            "Respuesta incorrecta. Fin del juego.\n",
            "Respondiste correctamente 1 preguntas.\n"
          ]
        }
      ]
    },
    {
      "cell_type": "markdown",
      "source": [
        "4) Un proveedor de estéreos ofrece un descuento del 10% sobre el precio sin IVA, de algún aparato si este cuesta $2000 o mas. Además, independientemente de esto, ofrece un 5% de descuento si  la marca es “NOSY”. Determinar cuanto pagara, con IVA incluido, un cliente cualquiera por la compra de su aparato.\n"
      ],
      "metadata": {
        "id": "KORWOLgPEmFb"
      }
    },
    {
      "cell_type": "code",
      "source": [
        "\n",
        "def calcular_precio_estereo():\n",
        "    \"\"\"Calcula el precio final de un estéreo con descuentos e IVA.\"\"\"\n",
        "\n",
        "    precio_sin_iva = float(input(\"Ingrese el precio del estéreo sin IVA: \"))\n",
        "    marca = input(\"Ingrese la marca del estéreo: \").upper()\n",
        "\n",
        "    descuento_precio = 0\n",
        "    if precio_sin_iva >= 2000:\n",
        "        descuento_precio = precio_sin_iva * 0.10\n",
        "\n",
        "    descuento_marca = 0\n",
        "    if marca == \"NOSY\":\n",
        "        descuento_marca = precio_sin_iva * 0.05\n",
        "\n",
        "    precio_con_descuentos = precio_sin_iva - descuento_precio - descuento_marca\n",
        "    iva = precio_con_descuentos * 0.16  # Asumiendo un IVA del 16%\n",
        "    precio_final = precio_con_descuentos + iva\n",
        "\n",
        "    print(f\"Precio final del estéreo con IVA incluido: ${precio_final:.2f}\")\n",
        "\n",
        "calcular_precio_estereo()\n"
      ],
      "metadata": {
        "colab": {
          "base_uri": "https://localhost:8080/"
        },
        "id": "4OVWROkQEqiw",
        "outputId": "d176f68c-53bd-4a33-f5a5-74057419a802"
      },
      "execution_count": null,
      "outputs": [
        {
          "output_type": "stream",
          "name": "stdout",
          "text": [
            "Ingrese el precio del estéreo sin IVA: 200\n",
            "Ingrese la marca del estéreo: SONY\n",
            "Precio final del estéreo con IVA incluido: $232.00\n"
          ]
        }
      ]
    },
    {
      "cell_type": "markdown",
      "source": [
        "5) Una frutería ofrece las manzanas con descuento según la siguiente tabla:\n",
        "\n",
        "\t\tNUM. DE KILOS COMPRADOS\t\t% DESCUENTO\n",
        "\t\t\t  0      -   2\t\t\t\t\t  0%\n",
        "\t\t\t  2.01 -   5 \t\t\t\t\t10%\n",
        "\t\t\t  5.01 - 10\t\t\t\t\t15%\n",
        "\t\t\t10.01 en adelante\t\t\t\t20%\n",
        "\tDeterminar cuanto pagara una persona que compre manzanas es esa frutería.\n"
      ],
      "metadata": {
        "id": "s6HtTyWkExoM"
      }
    },
    {
      "cell_type": "code",
      "source": [
        "\n",
        "def calcular_precio_manzanas():\n",
        "    \"\"\"Calcula el precio final de las manzanas con el descuento aplicado.\"\"\"\n",
        "\n",
        "    kilos_comprados = float(input(\"Ingrese la cantidad de kilos de manzanas comprados: \"))\n",
        "    precio_por_kilo = float(input(\"Ingrese el precio por kilo de manzanas: \"))\n",
        "\n",
        "    precio_sin_descuento = kilos_comprados * precio_por_kilo\n",
        "\n",
        "    if 0 <= kilos_comprados <= 2:\n",
        "        descuento = 0\n",
        "    elif 2.01 <= kilos_comprados <= 5:\n",
        "        descuento = 0.10\n",
        "    elif 5.01 <= kilos_comprados <= 10:\n",
        "        descuento = 0.15\n",
        "    else:\n",
        "        descuento = 0.20\n",
        "\n",
        "    precio_final = precio_sin_descuento * (1 - descuento)\n",
        "\n",
        "    print(f\"Precio total a pagar: ${precio_final:.2f}\")\n",
        "\n",
        "calcular_precio_manzanas()\n"
      ],
      "metadata": {
        "colab": {
          "base_uri": "https://localhost:8080/"
        },
        "id": "F63LI8x6E03Y",
        "outputId": "d96553a6-092f-49b0-d163-535ae6e1a5c8"
      },
      "execution_count": null,
      "outputs": [
        {
          "output_type": "stream",
          "name": "stdout",
          "text": [
            "Ingrese la cantidad de kilos de manzanas comprados: 20\n",
            "Ingrese el precio por kilo de manzanas: 2100\n",
            "Precio total a pagar: $33600.00\n"
          ]
        }
      ]
    },
    {
      "cell_type": "markdown",
      "source": [
        "6) El dueño de una empresa desea planificar las decisiones financieras que tomara en el siguiente año. La manera de planificarlas depende de lo siguiente:\n",
        "\n",
        "\tSi actualmente su capital se encuentra con saldo negativo, pedirá un préstamo bancario para que su nuevo saldo sea de $10 000. Si su capital tiene actualmente un saldo positivo pedirá un préstamo bancario para tener un nuevo saldo de $20 000, pero si su capital tiene actualmente un saldo superior a los $20 000 no pedirá ningún préstamo.\n",
        "\tPosteriormente repartirá su presupuesto de la siguiente manera.\n",
        "\t\t$5 000 para equipo de computo\n",
        "\t\t$2 000 para mobiliario\n",
        "\t\ty el resto la mitad será para la compra de insumos y la otra para otorgar incentivos \t\tal personal.\n",
        "\tDesplegar que cantidades se destinaran para la compra de insumos e incentivos al personal y, en caso de que fuera necesario, a cuanto ascendería la cantidad que se pediría al banco.\n"
      ],
      "metadata": {
        "id": "sjrB6DI9E9iX"
      }
    },
    {
      "cell_type": "code",
      "source": [
        "\n",
        "def planificar_finanzas():\n",
        "    \"\"\"Planifica las decisiones financieras de una empresa para el próximo año.\"\"\"\n",
        "\n",
        "    capital_actual = float(input(\"Ingrese el capital actual de la empresa: \"))\n",
        "    prestamo = 0\n",
        "\n",
        "    if capital_actual < 0:\n",
        "        prestamo = 10000 - capital_actual\n",
        "        nuevo_saldo = 10000\n",
        "    elif 0 <= capital_actual <= 20000:\n",
        "        prestamo = 20000 - capital_actual\n",
        "        nuevo_saldo = 20000\n",
        "    else:\n",
        "        nuevo_saldo = capital_actual\n",
        "\n",
        "    equipo_computo = 5000\n",
        "    mobiliario = 2000\n",
        "    restante = nuevo_saldo - equipo_computo - mobiliario\n",
        "    insumos = restante / 2\n",
        "    incentivos = restante / 2\n",
        "\n",
        "    print(f\"\\nCantidad a pedir prestada al banco: ${prestamo:.2f}\")\n",
        "    print(f\"Presupuesto para equipo de cómputo: ${equipo_computo:.2f}\")\n",
        "    print(f\"Presupuesto para mobiliario: ${mobiliario:.2f}\")\n",
        "    print(f\"Presupuesto para compra de insumos: ${insumos:.2f}\")\n",
        "    print(f\"Presupuesto para incentivos al personal: ${incentivos:.2f}\")\n",
        "\n",
        "planificar_finanzas()\n"
      ],
      "metadata": {
        "colab": {
          "base_uri": "https://localhost:8080/"
        },
        "id": "ZprUi4hvFA2N",
        "outputId": "cb5905df-4552-497f-826f-00fb37a1c8a3"
      },
      "execution_count": null,
      "outputs": [
        {
          "output_type": "stream",
          "name": "stdout",
          "text": [
            "Ingrese el capital actual de la empresa: 2000\n",
            "\n",
            "Cantidad a pedir prestada al banco: $18000.00\n",
            "Presupuesto para equipo de cómputo: $5000.00\n",
            "Presupuesto para mobiliario: $2000.00\n",
            "Presupuesto para compra de insumos: $6500.00\n",
            "Presupuesto para incentivos al personal: $6500.00\n"
          ]
        }
      ]
    },
    {
      "cell_type": "markdown",
      "source": [
        "7) Tomando como base los resultados obtenidos en un laboratorio de análisis clínicos, un medico determina si una persona tiene anemia o no, lo cual depende de su nivel de hemoglobina en la sangre, de su edad y de su sexo. Si el nivel de hemoglobina que tiene una persona es menor que el rango que le corresponde, se determina su resultado como positivo y en caso contrario como negativo. La tabla en la que el medico se basa para obtener el resultado es la siguiente:\n",
        "\n",
        "\t\tEDAD\t\t\t\t\tNIVEL HEMOGLOBINA\n",
        "\t\t0 - 1 mes\t\t\t\t\t13    - 26 g%\n",
        "\t\t> 1 y < = 6 meses\t\t\t\t10    - 18 g%\n",
        "\t\t> 6 y < = 12 meses\t\t\t\t11    - 15 g%\n",
        "\t\t> 1 y < = 5 años\t\t\t\t11.5 - 15 g%\n",
        "\t\t> 5 y < = 10 años\t\t\t\t12.6 - 15.5 g%\n",
        "\t\t> 10 y < = 15 años\t\t\t\t13    - 15.5 g%\n",
        "\t\tmujeres > 15 años\t\t\t\t12    - 16 g%\n",
        "\t\thombres > 15 años\t\t\t\t14    - 18 g%\n"
      ],
      "metadata": {
        "id": "8aZcrl_JFMTD"
      }
    },
    {
      "cell_type": "code",
      "source": [
        "\n",
        "def determinar_anemia():\n",
        "    edad = float(input(\"Ingrese la edad de la persona (en meses o años): \"))\n",
        "    hemoglobina = float(input(\"Ingrese el nivel de hemoglobina (g%): \"))\n",
        "    sexo = input(\"Ingrese el sexo (hombre/mujer): \").lower()\n",
        "\n",
        "    if 0 <= edad <= 1:\n",
        "        rango_min = 13\n",
        "        rango_max = 26\n",
        "    elif 1 < edad <= 6:\n",
        "        rango_min = 10\n",
        "        rango_max = 18\n",
        "    elif 6 < edad <= 12:\n",
        "        rango_min = 11\n",
        "        rango_max = 15\n",
        "    elif 1 < edad <= 5:\n",
        "        rango_min = 11.5\n",
        "        rango_max = 15\n",
        "    elif 5 < edad <= 10:\n",
        "        rango_min = 12.6\n",
        "        rango_max = 15.5\n",
        "    elif 10 < edad <= 15:\n",
        "        rango_min = 13\n",
        "        rango_max = 15.5\n",
        "    elif edad > 15 and sexo == \"mujer\":\n",
        "        rango_min = 12\n",
        "        rango_max = 16\n",
        "    elif edad > 15 and sexo == \"hombre\":\n",
        "        rango_min = 14\n",
        "        rango_max = 18\n",
        "    else:\n",
        "        print(\"Datos de entrada inválidos.\")\n",
        "        return\n",
        "\n",
        "    if hemoglobina < rango_min or hemoglobina > rango_max:\n",
        "        print(\"Resultado: Positivo (Anemia)\")\n",
        "    else:\n",
        "        print(\"Resultado: Negativo (No Anemia)\")\n",
        "\n",
        "determinar_anemia()\n"
      ],
      "metadata": {
        "colab": {
          "base_uri": "https://localhost:8080/"
        },
        "id": "Fw-__IjJFO72",
        "outputId": "37b9d89d-e93b-4b4e-f0c9-9ade8984df19"
      },
      "execution_count": null,
      "outputs": [
        {
          "output_type": "stream",
          "name": "stdout",
          "text": [
            "Ingrese la edad de la persona (en meses o años): 25\n",
            "Ingrese el nivel de hemoglobina (g%): 2.5\n",
            "Ingrese el sexo (hombre/mujer): HOMBRE\n",
            "Resultado: Positivo (Anemia)\n"
          ]
        }
      ]
    },
    {
      "cell_type": "markdown",
      "source": [
        "8) Una institución educativa estableció un programa para estimular a los alumnos con buen rendimiento académico y que consiste en lo siguiente:\n",
        "\tSi el promedio es de 9.5 o mas y el alumno es de preparatoria, entonces este podrá cursar 55 unidades y se le hará un 25% de descuento.\n",
        "\tSi el promedio es mayor o igual a 9 pero menor que 9.5 y el alumno es de preparatoria, entonces este podrá cursar 50 unidades y se le hará un 10% de descuento.\n",
        "\tSi el promedio es mayor que 7 y menor que 9 y el alumno es de preparatoria, este podrá cursar 50 unidades y no tendrá ningún descuento.\n",
        "\tSi el promedio es de 7 o menor,  el numero de materias reprobadas es de 0 a 3 y el alumno es de preparatoria, entonces podrá cursar 45 unidades y no tendrá descuento.\n",
        "\tSi el promedio es de 7 o menor, el numero de materias reprobadas es de 4 o mas y el alumno es de preparatoria, entonces podrá cursar 40 unidades y no tendrá ningún descuento.\n",
        "\tSi el promedio es mayor o igual a 9.5 y el alumno es de profesional, entonces podrá cursar 55 unidades y se le hará un 20% de descuento.\n",
        "\tSi el promedio es menor de 9.5 y el alumno es de profesional, entonces podrá cursar 55 unidades y no tendrá descuento.\n",
        "\tObtener el total que tendrá que pagar un alumno si la colegiatura para alumnos de profesional es de $300 por cada cinco unidades y para alumnos de preparatoria es de $180 por cada cinco unidades.\n"
      ],
      "metadata": {
        "id": "zNB1iPKKFZoB"
      }
    },
    {
      "cell_type": "code",
      "source": [
        "\n",
        "def calcular_colegiatura():\n",
        "    \"\"\"Calcula la colegiatura de un estudiante según su promedio, nivel y materias reprobadas.\"\"\"\n",
        "\n",
        "    promedio = float(input(\"Ingrese el promedio del alumno: \"))\n",
        "    nivel = input(\"Ingrese el nivel del alumno (preparatoria/profesional): \").lower()\n",
        "    materias_reprobadas = 0\n",
        "\n",
        "    if nivel == \"preparatoria\":\n",
        "        if promedio >= 9.5:\n",
        "            unidades = 55\n",
        "            descuento = 0.25\n",
        "        elif promedio >= 9:\n",
        "            unidades = 50\n",
        "            descuento = 0.10\n",
        "        elif promedio > 7:\n",
        "            unidades = 50\n",
        "            descuento = 0\n",
        "        else:\n",
        "            materias_reprobadas = int(input(\"Ingrese el número de materias reprobadas: \"))\n",
        "            if 0 <= materias_reprobadas <= 3:\n",
        "                unidades = 45\n",
        "                descuento = 0\n",
        "            else:\n",
        "                unidades = 40\n",
        "                descuento = 0\n",
        "        costo_por_cinco_unidades = 180\n",
        "    elif nivel == \"profesional\":\n",
        "        if promedio >= 9.5:\n",
        "            unidades = 55\n",
        "            descuento = 0.20\n",
        "        else:\n",
        "            unidades = 55\n",
        "            descuento = 0\n",
        "        costo_por_cinco_unidades = 300\n",
        "    else:\n",
        "        print(\"Nivel de estudios inválido.\")\n",
        "        return\n",
        "\n",
        "    colegiatura_base = (unidades / 5) * costo_por_cinco_unidades\n",
        "    total_pagar = colegiatura_base * (1 - descuento)\n",
        "\n",
        "    print(f\"El alumno deberá pagar ${total_pagar:.2f}\")\n",
        "\n",
        "calcular_colegiatura()\n"
      ],
      "metadata": {
        "colab": {
          "base_uri": "https://localhost:8080/"
        },
        "id": "5FPt8Ct4FcIP",
        "outputId": "029880ca-bbe4-476b-f6ab-d060d188ec12"
      },
      "execution_count": null,
      "outputs": [
        {
          "output_type": "stream",
          "name": "stdout",
          "text": [
            "Ingrese el promedio del alumno: 4.5\n",
            "Ingrese el nivel del alumno (preparatoria/profesional): PROFESIONAL\n",
            "El alumno deberá pagar $3300.00\n"
          ]
        }
      ]
    },
    {
      "cell_type": "markdown",
      "source": [
        "9) Que lea tres números diferentes y determine el numero medio del conjunto de los tres números (el numero medio es aquel numero que no es ni mayor, ni menor).\n"
      ],
      "metadata": {
        "id": "xCFg7C6RF0OZ"
      }
    },
    {
      "cell_type": "code",
      "source": [
        "2\n",
        "def encontrar_numero_medio():\n",
        "    \"\"\"Encuentra el número medio de tres números diferentes.\"\"\"\n",
        "\n",
        "    numeros = []\n",
        "    for i in range(3):\n",
        "        while True:\n",
        "            try:\n",
        "                numero = float(input(f\"Ingrese el número {i + 1}: \"))\n",
        "                if numero not in numeros:\n",
        "                    numeros.append(numero)\n",
        "                    break\n",
        "                else:\n",
        "                    print(\"El número ingresado ya existe. Ingrese un número diferente.\")\n",
        "            except ValueError:\n",
        "                print(\"Ingrese un valor numérico válido.\")\n",
        "\n",
        "    numeros.sort()  # Ordenar la lista de números\n",
        "    numero_medio = numeros[1]  # El segundo número en la lista ordenada es el medio\n",
        "\n",
        "    print(f\"El número medio es: {numero_medio}\")\n",
        "\n",
        "encontrar_numero_medio()\n"
      ],
      "metadata": {
        "colab": {
          "base_uri": "https://localhost:8080/"
        },
        "id": "OY3u6KhdF2vb",
        "outputId": "b576fb7b-b663-4450-f949-1f77e1816a96"
      },
      "execution_count": null,
      "outputs": [
        {
          "output_type": "stream",
          "name": "stdout",
          "text": [
            "Ingrese el número 1: 45\n",
            "Ingrese el número 2: 25\n",
            "Ingrese el número 3: 26\n",
            "El número medio es: 26.0\n"
          ]
        }
      ]
    },
    {
      "cell_type": "markdown",
      "source": [
        "# Ejercicios Hacer Para\n"
      ],
      "metadata": {
        "id": "W-8ljIv4F8-o"
      }
    },
    {
      "cell_type": "markdown",
      "source": [
        "1) Una persona debe realizar un muestreo con 50 personas para determinar el promedio de peso de los niños, jóvenes, adultos y viejos que existen en su zona habitacional. Se determinan las categorías con base  en la sig, tabla:\n",
        "\n",
        "\t\tCATEGORIA\t\t\tEDAD\n",
        "\t\tNiños\t\t\t\t0 - 12\n",
        "\t\tJóvenes\t\t\t\t13 - 29\n",
        "\t\tAdultos\t\t\t\t30 - 59\n",
        "\t\tViejos\t\t\t\t60 en adelante\n"
      ],
      "metadata": {
        "id": "66DsktTsGCt4"
      }
    },
    {
      "cell_type": "code",
      "source": [
        "\n",
        "def calcular_promedio_peso():\n",
        "    \"\"\"Calcula el promedio de peso por categoría de edad.\"\"\"\n",
        "\n",
        "    num_personas = 50\n",
        "    pesos_ninos = []\n",
        "    pesos_jovenes = []\n",
        "    pesos_adultos = []\n",
        "    pesos_viejos = []\n",
        "\n",
        "    for i in range(num_personas):\n",
        "        while True:\n",
        "            try:\n",
        "                edad = int(input(f\"Ingrese la edad de la persona {i+1}: \"))\n",
        "                peso = float(input(f\"Ingrese el peso de la persona {i+1} (kg): \"))\n",
        "                if peso > 0:\n",
        "                    break\n",
        "                else:\n",
        "                    print(\"El peso debe ser un valor positivo.\")\n",
        "            except ValueError:\n",
        "                print(\"Ingrese valores numéricos válidos para la edad y el peso.\")\n",
        "\n",
        "        if 0 <= edad <= 12:\n",
        "            pesos_ninos.append(peso)\n",
        "        elif 13 <= edad <= 29:\n",
        "            pesos_jovenes.append(peso)\n",
        "        elif 30 <= edad <= 59:\n",
        "            pesos_adultos.append(peso)\n",
        "        elif edad >= 60:\n",
        "            pesos_viejos.append(peso)\n",
        "        else:\n",
        "            print(\"Edad inválida. La persona no se clasificará en ninguna categoría.\")\n",
        "\n",
        "    def calcular_promedio(lista_pesos, categoria):\n",
        "        if lista_pesos:\n",
        "            promedio = sum(lista_pesos) / len(lista_pesos)\n",
        "            print(f\"Promedio de peso para {categoria}: {promedio:.2f} kg\")\n",
        "        else:\n",
        "            print(f\"No se encontraron personas en la categoría {categoria}\")\n",
        "\n",
        "    calcular_promedio(pesos_ninos, \"niños\")\n",
        "    calcular_promedio(pesos_jovenes, \"jóvenes\")\n",
        "    calcular_promedio(pesos_adultos, \"adultos\")\n",
        "    calcular_promedio(pesos_viejos, \"viejos\")\n",
        "\n",
        "\n",
        "calcular_promedio_peso()\n"
      ],
      "metadata": {
        "colab": {
          "base_uri": "https://localhost:8080/"
        },
        "id": "yMqkvIh8GGuA",
        "outputId": "45a30aeb-3afe-4fd3-cbfb-044917df6db8"
      },
      "execution_count": null,
      "outputs": [
        {
          "output_type": "stream",
          "name": "stdout",
          "text": [
            "Ingrese la edad de la persona 1: 10\n",
            "Ingrese el peso de la persona 1 (kg): 25\n",
            "Ingrese la edad de la persona 2: 13\n",
            "Ingrese el peso de la persona 2 (kg): 55\n",
            "Ingrese la edad de la persona 3: 26\n",
            "Ingrese el peso de la persona 3 (kg): 25\n",
            "Ingrese la edad de la persona 4: 15\n",
            "Ingrese el peso de la persona 4 (kg): 60\n",
            "Ingrese la edad de la persona 5: 50\n",
            "Ingrese el peso de la persona 5 (kg): 70\n",
            "Ingrese la edad de la persona 6: 60\n",
            "Ingrese el peso de la persona 6 (kg): 80\n",
            "Ingrese la edad de la persona 7: 90\n",
            "Ingrese el peso de la persona 7 (kg): 58\n",
            "Ingrese la edad de la persona 8: 25\n",
            "Ingrese el peso de la persona 8 (kg): 255\n",
            "Ingrese la edad de la persona 9: 25\n",
            "Ingrese el peso de la persona 9 (kg): 25\n",
            "Ingrese la edad de la persona 10: 25\n",
            "Ingrese el peso de la persona 10 (kg): 5\n",
            "Ingrese la edad de la persona 11: 252\n",
            "Ingrese el peso de la persona 11 (kg): 25\n",
            "Ingrese la edad de la persona 12: 25\n",
            "Ingrese el peso de la persona 12 (kg): 25\n",
            "Ingrese la edad de la persona 13: 25\n",
            "Ingrese el peso de la persona 13 (kg): 25\n",
            "Ingrese la edad de la persona 14: 25\n",
            "Ingrese el peso de la persona 14 (kg): 25\n",
            "Ingrese la edad de la persona 15: 25\n",
            "Ingrese el peso de la persona 15 (kg): 25\n",
            "Ingrese la edad de la persona 16: 25\n",
            "Ingrese el peso de la persona 16 (kg): 25\n",
            "Ingrese la edad de la persona 17: 25\n",
            "Ingrese el peso de la persona 17 (kg): 25\n",
            "Ingrese la edad de la persona 18: 25\n",
            "Ingrese el peso de la persona 18 (kg): 25\n",
            "Ingrese la edad de la persona 19: 25\n",
            "Ingrese el peso de la persona 19 (kg): 2\n",
            "Ingrese la edad de la persona 20: 25\n",
            "Ingrese el peso de la persona 20 (kg): 25\n",
            "Ingrese la edad de la persona 21: 25\n",
            "Ingrese el peso de la persona 21 (kg): 25\n",
            "Ingrese la edad de la persona 22: 25\n",
            "Ingrese el peso de la persona 22 (kg): 25\n",
            "Ingrese la edad de la persona 23: 25\n",
            "Ingrese el peso de la persona 23 (kg): 25\n",
            "Ingrese la edad de la persona 24: 25\n",
            "Ingrese el peso de la persona 24 (kg): 2\n",
            "Ingrese la edad de la persona 25: 25\n",
            "Ingrese el peso de la persona 25 (kg): 25\n",
            "Ingrese la edad de la persona 26: 25\n",
            "Ingrese el peso de la persona 26 (kg): 25\n",
            "Ingrese la edad de la persona 27: 52\n",
            "Ingrese el peso de la persona 27 (kg): 25\n",
            "Ingrese la edad de la persona 28: 25\n",
            "Ingrese el peso de la persona 28 (kg): 25\n",
            "Ingrese la edad de la persona 29: 25\n",
            "Ingrese el peso de la persona 29 (kg): 25\n",
            "Ingrese la edad de la persona 30: \n",
            "Ingrese valores numéricos válidos para la edad y el peso.\n",
            "Ingrese la edad de la persona 30: \n",
            "Ingrese valores numéricos válidos para la edad y el peso.\n",
            "Ingrese la edad de la persona 30: \n",
            "Ingrese valores numéricos válidos para la edad y el peso.\n",
            "Ingrese la edad de la persona 30: 25\n",
            "Ingrese el peso de la persona 30 (kg): 28\n",
            "Ingrese la edad de la persona 31: 28\n",
            "Ingrese el peso de la persona 31 (kg): 28\n",
            "Ingrese la edad de la persona 32: 28\n",
            "Ingrese el peso de la persona 32 (kg): 28\n",
            "Ingrese la edad de la persona 33: 28\n",
            "Ingrese el peso de la persona 33 (kg): 28\n",
            "Ingrese la edad de la persona 34: 28\n",
            "Ingrese el peso de la persona 34 (kg): 28\n",
            "Ingrese la edad de la persona 35: 28\n",
            "Ingrese el peso de la persona 35 (kg): 28\n",
            "Ingrese la edad de la persona 36: 28\n",
            "Ingrese el peso de la persona 36 (kg): 28\n",
            "Ingrese la edad de la persona 37: 28\n",
            "Ingrese el peso de la persona 37 (kg): 28\n",
            "Ingrese la edad de la persona 38: 28\n",
            "Ingrese el peso de la persona 38 (kg): 28\n",
            "Ingrese la edad de la persona 39: 28\n",
            "Ingrese el peso de la persona 39 (kg): 28\n",
            "Ingrese la edad de la persona 40: 28\n",
            "Ingrese el peso de la persona 40 (kg): 28\n",
            "Ingrese la edad de la persona 41: 28\n",
            "Ingrese el peso de la persona 41 (kg): 28\n",
            "Ingrese la edad de la persona 42: 28\n",
            "Ingrese el peso de la persona 42 (kg): 28\n",
            "Ingrese la edad de la persona 43: 28\n",
            "Ingrese el peso de la persona 43 (kg): 28\n",
            "Ingrese la edad de la persona 44: 28\n",
            "Ingrese el peso de la persona 44 (kg): 28\n",
            "Ingrese la edad de la persona 45: 28\n",
            "Ingrese el peso de la persona 45 (kg): 28\n",
            "Ingrese la edad de la persona 46: 28\n",
            "Ingrese el peso de la persona 46 (kg): 28\n",
            "Ingrese la edad de la persona 47: 28\n",
            "Ingrese el peso de la persona 47 (kg): 28\n",
            "Ingrese la edad de la persona 48: 28\n",
            "Ingrese el peso de la persona 48 (kg): 28\n",
            "Ingrese la edad de la persona 49: 28\n",
            "Ingrese el peso de la persona 49 (kg): 28\n",
            "Ingrese la edad de la persona 50: 28\n",
            "Ingrese el peso de la persona 50 (kg): 28\n",
            "Promedio de peso para niños: 25.00 kg\n",
            "Promedio de peso para jóvenes: 31.64 kg\n",
            "Promedio de peso para adultos: 47.50 kg\n",
            "Promedio de peso para viejos: 54.33 kg\n"
          ]
        }
      ]
    },
    {
      "cell_type": "markdown",
      "source": [
        "2) Al cerrar un expendio de naranjas, 15 clientes que aun no han pagado recibirán un 15% de descuento si compran mas de 10 kilos. Determinar cuanto pagara cada cliente y cuanto percibirá la tienda por esas compras"
      ],
      "metadata": {
        "id": "GzicUpnDHXId"
      }
    },
    {
      "cell_type": "code",
      "source": [
        "\n",
        "def calcular_ventas_naranjas():\n",
        "    \"\"\"Calcula el total a pagar por cada cliente y la ganancia total de la tienda.\"\"\"\n",
        "\n",
        "    num_clientes = 15\n",
        "    precio_por_kilo = float(input(\"Ingrese el precio por kilo de naranjas: \"))\n",
        "    total_tienda = 0\n",
        "\n",
        "    for i in range(num_clientes):\n",
        "        while True:\n",
        "            try:\n",
        "                kilos_comprados = float(input(f\"Ingrese los kilos comprados por el cliente {i+1}: \"))\n",
        "                if kilos_comprados >= 0:\n",
        "                    break\n",
        "                else:\n",
        "                    print(\"La cantidad de kilos debe ser un valor positivo.\")\n",
        "            except ValueError:\n",
        "                print(\"Ingrese un valor numérico válido para los kilos.\")\n",
        "\n",
        "        if kilos_comprados > 10:\n",
        "            descuento = 0.15\n",
        "        else:\n",
        "            descuento = 0\n",
        "\n",
        "        total_cliente = kilos_comprados * precio_por_kilo * (1 - descuento)\n",
        "        print(f\"Cliente {i+1}: Total a pagar = ${total_cliente:.2f}\")\n",
        "        total_tienda += total_cliente\n",
        "\n",
        "    print(f\"\\nTotal percibido por la tienda: ${total_tienda:.2f}\")\n",
        "\n",
        "calcular_ventas_naranjas()\n"
      ],
      "metadata": {
        "colab": {
          "base_uri": "https://localhost:8080/"
        },
        "id": "pY0Bbcx1HX6E",
        "outputId": "b1b4b68d-2141-490b-8f7c-7e228ea6a2c7"
      },
      "execution_count": null,
      "outputs": [
        {
          "output_type": "stream",
          "name": "stdout",
          "text": [
            "Ingrese el precio por kilo de naranjas: 200\n",
            "Ingrese los kilos comprados por el cliente 1: 26\n",
            "Cliente 1: Total a pagar = $4420.00\n",
            "Ingrese los kilos comprados por el cliente 2: 24\n",
            "Cliente 2: Total a pagar = $4080.00\n",
            "Ingrese los kilos comprados por el cliente 3: 2\n",
            "Cliente 3: Total a pagar = $400.00\n",
            "Ingrese los kilos comprados por el cliente 4: 1\n",
            "Cliente 4: Total a pagar = $200.00\n",
            "Ingrese los kilos comprados por el cliente 5: 6\n",
            "Cliente 5: Total a pagar = $1200.00\n",
            "Ingrese los kilos comprados por el cliente 6: 8\n",
            "Cliente 6: Total a pagar = $1600.00\n",
            "Ingrese los kilos comprados por el cliente 7: 4\n",
            "Cliente 7: Total a pagar = $800.00\n",
            "Ingrese los kilos comprados por el cliente 8: 2\n",
            "Cliente 8: Total a pagar = $400.00\n",
            "Ingrese los kilos comprados por el cliente 9: 5\n",
            "Cliente 9: Total a pagar = $1000.00\n",
            "Ingrese los kilos comprados por el cliente 10: 6\n",
            "Cliente 10: Total a pagar = $1200.00\n",
            "Ingrese los kilos comprados por el cliente 11: 5\n",
            "Cliente 11: Total a pagar = $1000.00\n",
            "Ingrese los kilos comprados por el cliente 12: 4\n",
            "Cliente 12: Total a pagar = $800.00\n",
            "Ingrese los kilos comprados por el cliente 13: 2\n",
            "Cliente 13: Total a pagar = $400.00\n",
            "Ingrese los kilos comprados por el cliente 14: 22\n",
            "Cliente 14: Total a pagar = $3740.00\n",
            "Ingrese los kilos comprados por el cliente 15: 36\n",
            "Cliente 15: Total a pagar = $6120.00\n",
            "\n",
            "Total percibido por la tienda: $27360.00\n"
          ]
        }
      ]
    },
    {
      "cell_type": "markdown",
      "source": [
        "3) En un centro de verificación de automóviles se desea saber el promedio de puntos contaminantes de los primeros 25 automóviles que lleguen. Asimismo se desea saber los puntos contaminantes del carro que menos contamino y del que mas contamino.\n"
      ],
      "metadata": {
        "id": "1lERX3DWHjsk"
      }
    },
    {
      "cell_type": "code",
      "source": [
        "\n",
        "def analizar_contaminacion():\n",
        "    \"\"\"Analiza la contaminación de 25 automóviles.\"\"\"\n",
        "\n",
        "    puntos_contaminantes = []\n",
        "    for i in range(25):\n",
        "        while True:\n",
        "            try:\n",
        "                puntos = float(input(f\"Ingrese los puntos contaminantes del automóvil {i + 1}: \"))\n",
        "                if puntos >= 0:\n",
        "                    puntos_contaminantes.append(puntos)\n",
        "                    break\n",
        "                else:\n",
        "                    print(\"Los puntos contaminantes no pueden ser negativos.\")\n",
        "            except ValueError:\n",
        "                print(\"Ingrese un valor numérico válido.\")\n",
        "\n",
        "    promedio = sum(puntos_contaminantes) / len(puntos_contaminantes)\n",
        "    minimo = min(puntos_contaminantes)\n",
        "    maximo = max(puntos_contaminantes)\n",
        "\n",
        "    print(f\"Promedio de puntos contaminantes: {promedio:.2f}\")\n",
        "    print(f\"Mínimos puntos contaminantes: {minimo}\")\n",
        "    print(f\"Máximos puntos contaminantes: {maximo}\")\n",
        "\n",
        "analizar_contaminacion()\n"
      ],
      "metadata": {
        "colab": {
          "base_uri": "https://localhost:8080/"
        },
        "id": "z8MMratoHvF9",
        "outputId": "ee6c8044-8cd5-4831-f576-fad60ffc9f39"
      },
      "execution_count": null,
      "outputs": [
        {
          "output_type": "stream",
          "name": "stdout",
          "text": [
            "Ingrese los puntos contaminantes del automóvil 1: 20\n",
            "Ingrese los puntos contaminantes del automóvil 2: 21\n",
            "Ingrese los puntos contaminantes del automóvil 3: 22\n",
            "Ingrese los puntos contaminantes del automóvil 4: 23\n",
            "Ingrese los puntos contaminantes del automóvil 5: 25\n",
            "Ingrese los puntos contaminantes del automóvil 6: 24\n",
            "Ingrese los puntos contaminantes del automóvil 7: 22\n",
            "Ingrese los puntos contaminantes del automóvil 8: 20\n",
            "Ingrese los puntos contaminantes del automóvil 9: 25\n",
            "Ingrese los puntos contaminantes del automóvil 10: 223\n",
            "Ingrese los puntos contaminantes del automóvil 11: 23\n",
            "Ingrese los puntos contaminantes del automóvil 12: 21\n",
            "Ingrese los puntos contaminantes del automóvil 13: 25\n",
            "Ingrese los puntos contaminantes del automóvil 14: 20\n",
            "Ingrese los puntos contaminantes del automóvil 15: 25\n",
            "Ingrese los puntos contaminantes del automóvil 16: 23\n",
            "Ingrese los puntos contaminantes del automóvil 17: 25\n",
            "Ingrese los puntos contaminantes del automóvil 18: 55\n",
            "Ingrese los puntos contaminantes del automóvil 19: 25\n",
            "Ingrese los puntos contaminantes del automóvil 20: 24\n",
            "Ingrese los puntos contaminantes del automóvil 21: 21\n",
            "Ingrese los puntos contaminantes del automóvil 22: 11\n",
            "Ingrese los puntos contaminantes del automóvil 23: 12\n",
            "Ingrese los puntos contaminantes del automóvil 24: 22\n",
            "Ingrese los puntos contaminantes del automóvil 25: 202\n",
            "Promedio de puntos contaminantes: 38.36\n",
            "Mínimos puntos contaminantes: 11.0\n",
            "Máximos puntos contaminantes: 223.0\n"
          ]
        }
      ]
    },
    {
      "cell_type": "markdown",
      "source": [
        "4) Un entrenador le ha propuesto a un atleta recorrer una ruta de cinco kilómetros durante 10 días, para determinar si es apto para la prueba de 5 Kilómetros o debe buscar otra especialidad. Para considerarlo apto debe cumplir por lo menos una de las siguientes condiciones:\n",
        "\n",
        "\t- Que en ninguna de las pruebas haga un tiempo mayor a 16 minutos.\n",
        "\t- Que al menos en una de las pruebas realice un tiempo mayor a 16 minutos.\n",
        "\t- Que su promedio de tiempos sea menor o igual a 15 minutos.\n"
      ],
      "metadata": {
        "id": "hHAsWHJpH9ii"
      }
    },
    {
      "cell_type": "code",
      "source": [
        "\n",
        "def evaluar_atleta():\n",
        "    \"\"\"Evalúa si un atleta es apto para una prueba de 5 kilómetros.\"\"\"\n",
        "\n",
        "    tiempos = []\n",
        "    for dia in range(10):\n",
        "        while True:\n",
        "            try:\n",
        "                tiempo = float(input(f\"Ingrese el tiempo del día {dia + 1} (en minutos): \"))\n",
        "                if tiempo > 0:\n",
        "                    tiempos.append(tiempo)\n",
        "                    break\n",
        "                else:\n",
        "                    print(\"El tiempo debe ser un valor positivo.\")\n",
        "            except ValueError:\n",
        "                print(\"Ingrese un valor numérico válido para el tiempo.\")\n",
        "\n",
        "    tiempo_maximo = max(tiempos)\n",
        "    promedio_tiempos = sum(tiempos) / len(tiempos)\n",
        "\n",
        "    if all(tiempo <= 16 for tiempo in tiempos) or any(tiempo > 16 for tiempo in tiempos) or promedio_tiempos <= 15:\n",
        "        print(\"El atleta es apto para la prueba de 5 kilómetros.\")\n",
        "    else:\n",
        "        print(\"El atleta no es apto para la prueba de 5 kilómetros.\")\n",
        "\n",
        "evaluar_atleta()\n"
      ],
      "metadata": {
        "colab": {
          "base_uri": "https://localhost:8080/"
        },
        "id": "zU51Z7bsIAqg",
        "outputId": "554b1d3a-825e-4ace-eb3c-d09a215abbc4"
      },
      "execution_count": null,
      "outputs": [
        {
          "output_type": "stream",
          "name": "stdout",
          "text": [
            "Ingrese el tiempo del día 1 (en minutos): 20\n",
            "Ingrese el tiempo del día 2 (en minutos): 23\n",
            "Ingrese el tiempo del día 3 (en minutos): 25\n",
            "Ingrese el tiempo del día 4 (en minutos): 24\n",
            "Ingrese el tiempo del día 5 (en minutos): 23\n",
            "Ingrese el tiempo del día 6 (en minutos): 15\n",
            "Ingrese el tiempo del día 7 (en minutos): 200\n",
            "Ingrese el tiempo del día 8 (en minutos): 25\n",
            "Ingrese el tiempo del día 9 (en minutos): 26\n",
            "Ingrese el tiempo del día 10 (en minutos): 266\n",
            "El atleta es apto para la prueba de 5 kilómetros.\n"
          ]
        }
      ]
    },
    {
      "cell_type": "markdown",
      "source": [
        "5) Un Zoólogo pretende determinar el porcentaje de animales que hay en las siguientes tres categorías de edades: de 0 a 1 año, de mas de 1 año y menos de 3 y de 3 o mas años. El  zoológico todavía no esta seguro del animal que va a estudiar. Si se decide por elefantes solo tomara una muestra de 20 de ellos; si se decide por las jirafas, tomara 15 muestras, y si son chimpancés tomara 40.\n"
      ],
      "metadata": {
        "id": "M6KNIFSoIQDt"
      }
    },
    {
      "cell_type": "code",
      "source": [
        "\n",
        "def analizar_edades_animales():\n",
        "    \"\"\"Analiza la distribución de edades en una población de animales.\"\"\"\n",
        "\n",
        "    animal = input(\"Ingrese el tipo de animal (elefante, jirafa, chimpancé): \").lower()\n",
        "\n",
        "    if animal == \"elefante\":\n",
        "        num_muestras = 20\n",
        "    elif animal == \"jirafa\":\n",
        "        num_muestras = 15\n",
        "    elif animal == \"chimpancé\":\n",
        "        num_muestras = 40\n",
        "    else:\n",
        "        print(\"Tipo de animal inválido.\")\n",
        "        return\n",
        "\n",
        "    edades_0_1 = 0\n",
        "    edades_1_3 = 0\n",
        "    edades_3_mas = 0\n",
        "\n",
        "    for i in range(num_muestras):\n",
        "        while True:\n",
        "            try:\n",
        "                edad = float(input(f\"Ingrese la edad del animal {i+1} (en años): \"))\n",
        "                if edad >= 0:\n",
        "                    break\n",
        "                else:\n",
        "                    print(\"La edad debe ser un valor no negativo.\")\n",
        "            except ValueError:\n",
        "                print(\"Ingrese un valor numérico válido.\")\n",
        "\n",
        "        if 0 <= edad <= 1:\n",
        "            edades_0_1 += 1\n",
        "        elif 1 < edad < 3:\n",
        "            edades_1_3 += 1\n",
        "        elif edad >= 3:\n",
        "            edades_3_mas += 1\n",
        "\n",
        "    porcentaje_0_1 = (edades_0_1 / num_muestras) * 100\n",
        "    porcentaje_1_3 = (edades_1_3 / num_muestras) * 100\n",
        "    porcentaje_3_mas = (edades_3_mas / num_muestras) * 100\n",
        "\n",
        "    print(f\"\\nPorcentaje de animales de 0 a 1 año: {porcentaje_0_1:.2f}%\")\n",
        "    print(f\"Porcentaje de animales de más de 1 año y menos de 3 años: {porcentaje_1_3:.2f}%\")\n",
        "    print(f\"Porcentaje de animales de 3 o más años: {porcentaje_3_mas:.2f}%\")\n",
        "\n",
        "analizar_edades_animales()\n"
      ],
      "metadata": {
        "colab": {
          "base_uri": "https://localhost:8080/"
        },
        "id": "ZzQJwKzFIS94",
        "outputId": "7e9986ce-e487-419b-8a32-7049a28a78cc"
      },
      "execution_count": null,
      "outputs": [
        {
          "output_type": "stream",
          "name": "stdout",
          "text": [
            "Ingrese el tipo de animal (elefante, jirafa, chimpancé): ELEFANTE\n",
            "Ingrese la edad del animal 1 (en años): 52\n",
            "Ingrese la edad del animal 2 (en años): 22\n",
            "Ingrese la edad del animal 3 (en años): 26\n",
            "Ingrese la edad del animal 4 (en años): 28\n",
            "Ingrese la edad del animal 5 (en años): 54+\n",
            "Ingrese un valor numérico válido.\n",
            "Ingrese la edad del animal 5 (en años): 56\n",
            "Ingrese la edad del animal 6 (en años): 2\n",
            "Ingrese la edad del animal 7 (en años): 26\n",
            "Ingrese la edad del animal 8 (en años): 655\n",
            "Ingrese la edad del animal 9 (en años): 55\n",
            "Ingrese la edad del animal 10 (en años): 56\n",
            "Ingrese la edad del animal 11 (en años): 65\n",
            "Ingrese la edad del animal 12 (en años): 32\n",
            "Ingrese la edad del animal 13 (en años): 21\n",
            "Ingrese la edad del animal 14 (en años): 21\n",
            "Ingrese la edad del animal 15 (en años): 20\n",
            "Ingrese la edad del animal 16 (en años): 202\n",
            "Ingrese la edad del animal 17 (en años): 202\n",
            "Ingrese la edad del animal 18 (en años): 20\n",
            "Ingrese la edad del animal 19 (en años): 20\n",
            "Ingrese la edad del animal 20 (en años): 20\n",
            "\n",
            "Porcentaje de animales de 0 a 1 año: 0.00%\n",
            "Porcentaje de animales de más de 1 año y menos de 3 años: 5.00%\n",
            "Porcentaje de animales de 3 o más años: 95.00%\n"
          ]
        }
      ]
    },
    {
      "cell_type": "markdown",
      "source": [
        "# **Ejercicios Hacer Mientras**\n"
      ],
      "metadata": {
        "id": "ZwtHHCJMKg5q"
      }
    },
    {
      "cell_type": "markdown",
      "source": [
        "1.  Una compañía de seguros tiene contratados a n vendedores. Cada uno hace tres ventas a la semana. Su política de pagos es que un vendedor recibe un sueldo base, y un 10% extra por comisiones de sus ventas. El gerente de su compañía desea saber cuanto dinero obtendrá en la semana cada vendedor por concepto de comisiones por las tres ventas realizadas, y cuanto tomando en cuenta su sueldo base y sus comisiones.\n",
        "\n"
      ],
      "metadata": {
        "id": "rK4odotDKzOa"
      }
    },
    {
      "cell_type": "code",
      "source": [
        "\n",
        "\n",
        "def calcular_pagos_vendedores():\n",
        "    \"\"\"Calcula las comisiones y el salario total de los vendedores.\"\"\"\n",
        "\n",
        "    num_vendedores = int(input(\"Ingrese el número de vendedores: \"))\n",
        "    sueldo_base = float(input(\"Ingrese el sueldo base de los vendedores: \"))\n",
        "\n",
        "    i = 0\n",
        "    while i < num_vendedores:\n",
        "        ventas = []\n",
        "        for j in range(3):\n",
        "            while True:\n",
        "                try:\n",
        "                    venta = float(input(f\"Ingrese el monto de la venta {j+1} del vendedor {i+1}: \"))\n",
        "                    if venta >= 0:\n",
        "                        ventas.append(venta)\n",
        "                        break\n",
        "                    else:\n",
        "                        print(\"El monto de la venta no puede ser negativo.\")\n",
        "                except ValueError:\n",
        "                    print(\"Ingrese un valor numérico válido.\")\n",
        "\n",
        "        comision = sum(ventas) * 0.10\n",
        "        salario_total = sueldo_base + comision\n",
        "        print(f\"\\nVendedor {i+1}:\")\n",
        "        print(f\"Comisión: ${comision:.2f}\")\n",
        "        print(f\"Salario total: ${salario_total:.2f}\")\n",
        "        i += 1\n",
        "\n",
        "calcular_pagos_vendedores()\n"
      ],
      "metadata": {
        "colab": {
          "base_uri": "https://localhost:8080/"
        },
        "id": "CGPt2BFXK6IO",
        "outputId": "6dbab9f0-4849-4869-bfb4-5e6ba345aa49"
      },
      "execution_count": null,
      "outputs": [
        {
          "output_type": "stream",
          "name": "stdout",
          "text": [
            "Ingrese el número de vendedores: 4\n",
            "Ingrese el sueldo base de los vendedores: 3555\n",
            "Ingrese el monto de la venta 1 del vendedor 1: 789000\n",
            "Ingrese el monto de la venta 2 del vendedor 1: 234000\n",
            "Ingrese el monto de la venta 3 del vendedor 1: 4000\n",
            "\n",
            "Vendedor 1:\n",
            "Comisión: $102700.00\n",
            "Salario total: $106255.00\n",
            "Ingrese el monto de la venta 1 del vendedor 2: 4\n",
            "Ingrese el monto de la venta 2 del vendedor 2: 5000\n",
            "Ingrese el monto de la venta 3 del vendedor 2: 30000\n",
            "\n",
            "Vendedor 2:\n",
            "Comisión: $3500.40\n",
            "Salario total: $7055.40\n",
            "Ingrese el monto de la venta 1 del vendedor 3: 4033\n",
            "Ingrese el monto de la venta 2 del vendedor 3: 4000\n",
            "Ingrese el monto de la venta 3 del vendedor 3: 40000\n",
            "\n",
            "Vendedor 3:\n",
            "Comisión: $4803.30\n",
            "Salario total: $8358.30\n",
            "Ingrese el monto de la venta 1 del vendedor 4: 40000\n",
            "Ingrese el monto de la venta 2 del vendedor 4: 440000\n",
            "Ingrese el monto de la venta 3 del vendedor 4: 5000\n",
            "\n",
            "Vendedor 4:\n",
            "Comisión: $48500.00\n",
            "Salario total: $52055.00\n"
          ]
        }
      ]
    },
    {
      "cell_type": "markdown",
      "source": [
        "2. En una empresa se requiere calcular el salario semanal de cada uno de los n obreros que laboran en ella. El salario se obtiene de la sig. forma:\n",
        "\tSi el obrero trabaja 40 horas o menos se le paga 20 por hora\n",
        "\tSi trabaja mas de 40 horas se le paga 20 por cada una de las primeras 40 horas y $25 por cada hora extra.\n"
      ],
      "metadata": {
        "id": "qDsgSxtuL-kz"
      }
    },
    {
      "cell_type": "code",
      "source": [
        "\n",
        "def calcular_salario_obreros():\n",
        "    \"\"\"Calcula el salario semanal de los obreros.\"\"\"\n",
        "\n",
        "    num_obreros = int(input(\"Ingrese el número de obreros: \"))\n",
        "    i = 0\n",
        "    while i < num_obreros:\n",
        "        while True:\n",
        "            try:\n",
        "                horas_trabajadas = float(input(f\"Ingrese las horas trabajadas por el obrero {i+1}: \"))\n",
        "                if horas_trabajadas >= 0:\n",
        "                    break\n",
        "                else:\n",
        "                    print(\"Las horas trabajadas no pueden ser negativas.\")\n",
        "            except ValueError:\n",
        "                print(\"Ingrese un valor numérico válido.\")\n",
        "\n",
        "        if horas_trabajadas <= 40:\n",
        "            salario = horas_trabajadas * 20\n",
        "        else:\n",
        "            salario = 40 * 20 + (horas_trabajadas - 40) * 25\n",
        "\n",
        "        print(f\"El salario del obrero {i+1} es: ${salario:.2f}\")\n",
        "        i += 1\n",
        "\n",
        "calcular_salario_obreros()\n"
      ],
      "metadata": {
        "colab": {
          "base_uri": "https://localhost:8080/"
        },
        "id": "P3T3qTYhMSIp",
        "outputId": "7206ead9-8163-44d5-d1ef-8d7456616dea"
      },
      "execution_count": null,
      "outputs": [
        {
          "output_type": "stream",
          "name": "stdout",
          "text": [
            "Ingrese el número de obreros: 4\n",
            "Ingrese las horas trabajadas por el obrero 1: 3000\n",
            "El salario del obrero 1 es: $74800.00\n",
            "Ingrese las horas trabajadas por el obrero 2: 4000\n",
            "El salario del obrero 2 es: $99800.00\n",
            "Ingrese las horas trabajadas por el obrero 3: 4\n",
            "El salario del obrero 3 es: $80.00\n",
            "Ingrese las horas trabajadas por el obrero 4: \n",
            "Ingrese un valor numérico válido.\n",
            "Ingrese las horas trabajadas por el obrero 4: 4\n",
            "El salario del obrero 4 es: $80.00\n"
          ]
        }
      ]
    },
    {
      "cell_type": "markdown",
      "source": [
        " 3. Determinar cuantos hombres y cuantas mujeres se encuentran en un grupo de n personas, suponiendo que los datos son extraídos alumno por alumno.\n"
      ],
      "metadata": {
        "id": "NvudSg0WMhUQ"
      }
    },
    {
      "cell_type": "code",
      "source": [
        "\n",
        "\n",
        "def contar_hombres_mujeres():\n",
        "    \"\"\"Cuenta la cantidad de hombres y mujeres en un grupo de personas.\"\"\"\n",
        "\n",
        "    n = int(input(\"Ingrese el número de personas en el grupo: \"))\n",
        "    hombres = 0\n",
        "    mujeres = 0\n",
        "    i = 0\n",
        "\n",
        "    while i < n:\n",
        "        sexo = input(f\"Ingrese el sexo de la persona {i+1} (hombre/mujer): \").lower()\n",
        "        if sexo == \"hombre\":\n",
        "            hombres += 1\n",
        "        elif sexo == \"mujer\":\n",
        "            mujeres += 1\n",
        "        else:\n",
        "            print(\"Sexo inválido. Por favor, ingrese 'hombre' o 'mujer'.\")\n",
        "            continue\n",
        "        i += 1\n",
        "\n",
        "    print(f\"\\nCantidad de hombres: {hombres}\")\n",
        "    print(f\"Cantidad de mujeres: {mujeres}\")\n",
        "\n",
        "contar_hombres_mujeres()\n"
      ],
      "metadata": {
        "colab": {
          "base_uri": "https://localhost:8080/"
        },
        "id": "Hk-H9jbHMq9a",
        "outputId": "d236cabe-7df2-4dc3-cd87-01b40bf9cc36"
      },
      "execution_count": null,
      "outputs": [
        {
          "output_type": "stream",
          "name": "stdout",
          "text": [
            "Ingrese el número de personas en el grupo: 10\n",
            "Ingrese el sexo de la persona 1 (hombre/mujer): mujer\n",
            "Ingrese el sexo de la persona 2 (hombre/mujer): hombre\n",
            "Ingrese el sexo de la persona 3 (hombre/mujer): mujer\n",
            "Ingrese el sexo de la persona 4 (hombre/mujer): mujer\n",
            "Ingrese el sexo de la persona 5 (hombre/mujer): hombre\n",
            "Ingrese el sexo de la persona 6 (hombre/mujer): hombre\n",
            "Ingrese el sexo de la persona 7 (hombre/mujer): hombre\n",
            "Ingrese el sexo de la persona 8 (hombre/mujer): mujer\n",
            "Ingrese el sexo de la persona 9 (hombre/mujer): mujer\n",
            "Ingrese el sexo de la persona 10 (hombre/mujer): mujer\n",
            "\n",
            "Cantidad de hombres: 4\n",
            "Cantidad de mujeres: 6\n"
          ]
        }
      ]
    },
    {
      "cell_type": "markdown",
      "source": [
        " 4. El Depto. de Seguridad Publica y Transito del D.F. desea saber, de los n autos que entran a la ciudad de México, cuantos entran con calcomanía de cada color. Conociendo el ultimo dígito de la placa de cada automóvil se puede determinar el color de la calcomanía utilizando la sig. relación:\n",
        "\n",
        "\t\tDÍGITO\t\tCOLOR\n",
        "\t\t1 o 2\t\t\tamarilla\n",
        "\t\t3 o 4\t\t\trosa\n",
        "\t\t5 o 6\t\t\troja\n",
        "\t\t7 o 8\t\t\tverde\n",
        "\t\t9 o 0\t\t\tazul\n"
      ],
      "metadata": {
        "id": "Ey0E_6G_NCkG"
      }
    },
    {
      "cell_type": "code",
      "source": [
        "\n",
        "def contar_calcomanias():\n",
        "    \"\"\"Cuenta la cantidad de autos con cada color de calcomanía.\"\"\"\n",
        "\n",
        "    n = int(input(\"Ingrese el número de autos: \"))\n",
        "    amarilla = 0\n",
        "    rosa = 0\n",
        "    roja = 0\n",
        "    verde = 0\n",
        "    azul = 0\n",
        "    i = 0\n",
        "\n",
        "    while i < n:\n",
        "        while True:\n",
        "            try:\n",
        "                ultimo_digito = int(input(f\"Ingrese el último dígito de la placa del auto {i+1}: \"))\n",
        "                if 0 <= ultimo_digito <= 9:\n",
        "                    break\n",
        "                else:\n",
        "                    print(\"El último dígito debe estar entre 0 y 9.\")\n",
        "            except ValueError:\n",
        "                print(\"Ingrese un valor numérico válido.\")\n",
        "\n",
        "        if ultimo_digito == 1 or ultimo_digito == 2:\n",
        "            amarilla += 1\n",
        "        elif ultimo_digito == 3 or ultimo_digito == 4:\n",
        "            rosa += 1\n",
        "        elif ultimo_digito == 5 or ultimo_digito == 6:\n",
        "            roja += 1\n",
        "        elif ultimo_digito == 7 or ultimo_digito == 8:\n",
        "            verde += 1\n",
        "        elif ultimo_digito == 9 or ultimo_digito == 0:\n",
        "            azul += 1\n",
        "        i += 1\n",
        "\n",
        "    print(\"\\nCantidad de autos por color de calcomanía:\")\n",
        "    print(f\"Amarilla: {amarilla}\")\n",
        "    print(f\"Rosa: {rosa}\")\n",
        "    print(f\"Roja: {roja}\")\n",
        "    print(f\"Verde: {verde}\")\n",
        "    print(f\"Azul: {azul}\")\n",
        "\n",
        "contar_calcomanias()\n"
      ],
      "metadata": {
        "colab": {
          "base_uri": "https://localhost:8080/"
        },
        "id": "bzSQpEDrNAQx",
        "outputId": "50dcbec1-1da2-4a71-813e-3d19167b6f6f"
      },
      "execution_count": null,
      "outputs": [
        {
          "output_type": "stream",
          "name": "stdout",
          "text": [
            "Ingrese el número de autos: 3\n",
            "Ingrese el último dígito de la placa del auto 1: 4\n",
            "Ingrese el último dígito de la placa del auto 2: 9\n",
            "Ingrese el último dígito de la placa del auto 3: 8\n",
            "\n",
            "Cantidad de autos por color de calcomanía:\n",
            "Amarilla: 0\n",
            "Rosa: 1\n",
            "Roja: 0\n",
            "Verde: 1\n",
            "Azul: 1\n"
          ]
        }
      ]
    },
    {
      "cell_type": "markdown",
      "source": [
        "5. Obtener el promedio de calificaciones de un grupo de n alumnos.\n"
      ],
      "metadata": {
        "id": "5AC_vuTqNrH7"
      }
    },
    {
      "cell_type": "code",
      "source": [
        "\n",
        "\n",
        "def calcular_promedio_calificaciones():\n",
        "    \"\"\"Calcula el promedio de calificaciones de un grupo de alumnos.\"\"\"\n",
        "    n = int(input(\"Ingrese el número de alumnos: \"))\n",
        "    suma_calificaciones = 0\n",
        "    i = 0\n",
        "    while i < n:\n",
        "        while True:\n",
        "            try:\n",
        "                calificacion = float(input(f\"Ingrese la calificación del alumno {i + 1}: \"))\n",
        "                if 0 <= calificacion <= 10:\n",
        "                    suma_calificaciones += calificacion\n",
        "                    break\n",
        "                else:\n",
        "                    print(\"La calificación debe estar entre 0 y 10.\")\n",
        "            except ValueError:\n",
        "                print(\"Ingrese un valor numérico válido.\")\n",
        "        i += 1\n",
        "\n",
        "    promedio = suma_calificaciones / n\n",
        "    print(f\"El promedio de calificaciones es: {promedio}\")\n",
        "\n",
        "calcular_promedio_calificaciones()\n"
      ],
      "metadata": {
        "colab": {
          "base_uri": "https://localhost:8080/"
        },
        "id": "JuqTK79UNzhE",
        "outputId": "01805303-f8f1-49e0-851a-365c25e81cbb"
      },
      "execution_count": null,
      "outputs": [
        {
          "output_type": "stream",
          "name": "stdout",
          "text": [
            "Ingrese el número de alumnos: 8\n",
            "Ingrese la calificación del alumno 1: 50\n",
            "La calificación debe estar entre 0 y 10.\n",
            "Ingrese la calificación del alumno 1: 5\n",
            "Ingrese la calificación del alumno 2: 3\n",
            "Ingrese la calificación del alumno 3: 2\n",
            "Ingrese la calificación del alumno 4: 5\n",
            "Ingrese la calificación del alumno 5: 9\n",
            "Ingrese la calificación del alumno 6: 4\n",
            "Ingrese la calificación del alumno 7: 9\n",
            "Ingrese la calificación del alumno 8: 4\n",
            "El promedio de calificaciones es: 5.125\n"
          ]
        }
      ]
    },
    {
      "cell_type": "markdown",
      "source": [
        " 6. Una persona desea invertir su dinero en un banco, el cual le otorga un 2% de interés. Cual será la cantidad de dinero que esta persona tendrá al cabo de un año si la ganancia de cada mes es reinvertida?."
      ],
      "metadata": {
        "id": "2deGSNKoOBr-"
      }
    },
    {
      "cell_type": "code",
      "source": [
        "\n",
        "\n",
        "def calcular_inversion():\n",
        "    \"\"\"Calcula la cantidad de dinero al cabo de un año con intereses reinvertidos.\"\"\"\n",
        "\n",
        "    inversion_inicial = float(input(\"Ingrese la cantidad de dinero a invertir: \"))\n",
        "    tasa_interes_mensual = 0.02 / 12\n",
        "    inversion_actual = inversion_inicial\n",
        "    mes = 1\n",
        "    while mes <= 12:\n",
        "        interes_ganado = inversion_actual * tasa_interes_mensual\n",
        "        inversion_actual += interes_ganado\n",
        "        mes += 1\n",
        "\n",
        "    print(f\"La cantidad de dinero al cabo de un año será: ${inversion_actual:.2f}\")\n",
        "\n",
        "calcular_inversion()\n"
      ],
      "metadata": {
        "colab": {
          "base_uri": "https://localhost:8080/"
        },
        "id": "biWCGR0IOF5Y",
        "outputId": "80f14672-ab1a-450c-bd90-cc13690120d6"
      },
      "execution_count": null,
      "outputs": [
        {
          "output_type": "stream",
          "name": "stdout",
          "text": [
            "Ingrese la cantidad de dinero a invertir: 1000000\n",
            "La cantidad de dinero al cabo de un año será: $1020184.36\n"
          ]
        }
      ]
    },
    {
      "cell_type": "markdown",
      "source": [
        "7. Calcular el promedio de edades de hombres, mujeres y de todo un grupo de alumnos.\n",
        "\n"
      ],
      "metadata": {
        "id": "-OTiu3MZOPnU"
      }
    },
    {
      "cell_type": "code",
      "source": [
        "\n",
        "\n",
        "def calcular_promedio_edades():\n",
        "    \"\"\"Calcula el promedio de edades de hombres, mujeres y del grupo completo.\"\"\"\n",
        "\n",
        "    num_alumnos = int(input(\"Ingrese el número de alumnos: \"))\n",
        "    suma_edades_hombres = 0\n",
        "    suma_edades_mujeres = 0\n",
        "    cantidad_hombres = 0\n",
        "    cantidad_mujeres = 0\n",
        "    i = 0\n",
        "\n",
        "    while i < num_alumnos:\n",
        "        sexo = input(f\"Ingrese el sexo del alumno {i+1} (hombre/mujer): \").lower()\n",
        "        while True:\n",
        "            try:\n",
        "                edad = int(input(f\"Ingrese la edad del alumno {i+1}: \"))\n",
        "                if edad > 0:\n",
        "                    break\n",
        "                else:\n",
        "                    print(\"La edad debe ser un valor positivo.\")\n",
        "            except ValueError:\n",
        "                print(\"Ingrese una edad válida.\")\n",
        "\n",
        "        if sexo == \"hombre\":\n",
        "            suma_edades_hombres += edad\n",
        "            cantidad_hombres += 1\n",
        "        elif sexo == \"mujer\":\n",
        "            suma_edades_mujeres += edad\n",
        "            cantidad_mujeres += 1\n",
        "        else:\n",
        "            print(\"Sexo inválido. Por favor, ingrese 'hombre' o 'mujer'.\")\n",
        "            continue\n",
        "        i += 1\n",
        "\n",
        "    if cantidad_hombres > 0:\n",
        "        promedio_hombres = suma_edades_hombres / cantidad_hombres\n",
        "        print(f\"Promedio de edad de los hombres: {promedio_hombres:.2f}\")\n",
        "    else:\n",
        "        print(\"No se ingresaron datos para hombres.\")\n",
        "\n",
        "    if cantidad_mujeres > 0:\n",
        "        promedio_mujeres = suma_edades_mujeres / cantidad_mujeres\n",
        "        print(f\"Promedio de edad de las mujeres: {promedio_mujeres:.2f}\")\n",
        "    else:\n",
        "        print(\"No se ingresaron datos para mujeres.\")\n",
        "\n",
        "    if num_alumnos > 0 :\n",
        "        promedio_total = (suma_edades_hombres + suma_edades_mujeres) / num_alumnos\n",
        "        print(f\"Promedio de edad de todo el grupo: {promedio_total:.2f}\")\n",
        "    else:\n",
        "        print(\"No se ingresaron datos para ningún alumno.\")\n",
        "\n",
        "calcular_promedio_edades()\n"
      ],
      "metadata": {
        "colab": {
          "base_uri": "https://localhost:8080/"
        },
        "id": "STKNEjUoOTzu",
        "outputId": "ba424cce-9f59-4754-aa8b-54b156cc1876"
      },
      "execution_count": null,
      "outputs": [
        {
          "output_type": "stream",
          "name": "stdout",
          "text": [
            "Ingrese el número de alumnos: 10\n",
            "Ingrese el sexo del alumno 1 (hombre/mujer): hombre\n",
            "Ingrese la edad del alumno 1: 10\n",
            "Ingrese el sexo del alumno 2 (hombre/mujer): mujer\n",
            "Ingrese la edad del alumno 2: 11\n",
            "Ingrese el sexo del alumno 3 (hombre/mujer): hombre \n",
            "Ingrese la edad del alumno 3: 12\n",
            "Sexo inválido. Por favor, ingrese 'hombre' o 'mujer'.\n",
            "Ingrese el sexo del alumno 3 (hombre/mujer): hombre\n",
            "Ingrese la edad del alumno 3: 10\n",
            "Ingrese el sexo del alumno 4 (hombre/mujer): mujer\n",
            "Ingrese la edad del alumno 4: 10\n",
            "Ingrese el sexo del alumno 5 (hombre/mujer): mujer\n",
            "Ingrese la edad del alumno 5: 10\n",
            "Ingrese el sexo del alumno 6 (hombre/mujer): mujer\n",
            "Ingrese la edad del alumno 6: 10\n",
            "Ingrese el sexo del alumno 7 (hombre/mujer): hombre\n",
            "Ingrese la edad del alumno 7: 10\n",
            "Ingrese el sexo del alumno 8 (hombre/mujer): mujer\n",
            "Ingrese la edad del alumno 8: 11\n",
            "Ingrese el sexo del alumno 9 (hombre/mujer): mujer\n",
            "Ingrese la edad del alumno 9: 12\n",
            "Ingrese el sexo del alumno 10 (hombre/mujer): hombre\n",
            "Ingrese la edad del alumno 10: 10\n",
            "Promedio de edad de los hombres: 10.00\n",
            "Promedio de edad de las mujeres: 10.67\n",
            "Promedio de edad de todo el grupo: 10.40\n"
          ]
        }
      ]
    },
    {
      "cell_type": "markdown",
      "source": [
        "8. Encontrar el menor valor de un conjunto de n números dados."
      ],
      "metadata": {
        "id": "PS9WCvyFPWew"
      }
    },
    {
      "cell_type": "code",
      "source": [
        "\n",
        "\n",
        "def encontrar_menor_valor():\n",
        "    \"\"\"Encuentra el menor valor de un conjunto de n números.\"\"\"\n",
        "\n",
        "    n = int(input(\"Ingrese la cantidad de números: \"))\n",
        "    if n <= 0:\n",
        "        print(\"La cantidad de números debe ser mayor que cero.\")\n",
        "        return\n",
        "\n",
        "    numeros = []\n",
        "    i = 0\n",
        "    while i < n:\n",
        "        while True:\n",
        "            try:\n",
        "                numero = float(input(f\"Ingrese el número {i + 1}: \"))\n",
        "                numeros.append(numero)\n",
        "                break\n",
        "            except ValueError:\n",
        "                print(\"Ingrese un valor numérico válido.\")\n",
        "        i += 1\n",
        "\n",
        "    menor_valor = numeros[0]\n",
        "    for numero in numeros:\n",
        "      if numero < menor_valor:\n",
        "        menor_valor = numero\n",
        "\n",
        "    print(f\"El menor valor del conjunto es: {menor_valor}\")\n",
        "\n",
        "encontrar_menor_valor()\n"
      ],
      "metadata": {
        "colab": {
          "base_uri": "https://localhost:8080/"
        },
        "id": "8ZBZTKLrPdBB",
        "outputId": "0a411d45-8fe7-4e01-fcde-fa681593456c"
      },
      "execution_count": null,
      "outputs": [
        {
          "output_type": "stream",
          "name": "stdout",
          "text": [
            "Ingrese la cantidad de números: 15\n",
            "Ingrese el número 1: 3\n",
            "Ingrese el número 2: 4\n",
            "Ingrese el número 3: 5\n",
            "Ingrese el número 4: 6\n",
            "Ingrese el número 5: 7\n",
            "Ingrese el número 6: 8\n",
            "Ingrese el número 7: 9\n",
            "Ingrese el número 8: 20\n",
            "Ingrese el número 9: 24\n",
            "Ingrese el número 10: 55\n",
            "Ingrese el número 11: 94\n",
            "Ingrese el número 12: 46\n",
            "Ingrese el número 13: 96\n",
            "Ingrese el número 14: 05\n",
            "Ingrese el número 15: 54\n",
            "El menor valor del conjunto es: 3.0\n"
          ]
        }
      ]
    },
    {
      "cell_type": "markdown",
      "source": [
        "9. Encontrar el mayor valor de un conjunto de n números dados.\n"
      ],
      "metadata": {
        "id": "hGR7bUOyPoYE"
      }
    },
    {
      "cell_type": "code",
      "source": [
        "\n",
        "\n",
        "def encontrar_mayor_valor():\n",
        "    \"\"\"Encuentra el mayor valor de un conjunto de n números.\"\"\"\n",
        "\n",
        "    n = int(input(\"Ingrese la cantidad de números: \"))\n",
        "    if n <= 0:\n",
        "        print(\"La cantidad de números debe ser mayor que cero.\")\n",
        "        return\n",
        "\n",
        "    numeros = []\n",
        "    i = 0\n",
        "    while i < n:\n",
        "        while True:\n",
        "            try:\n",
        "                numero = float(input(f\"Ingrese el número {i + 1}: \"))\n",
        "                numeros.append(numero)\n",
        "                break\n",
        "            except ValueError:\n",
        "                print(\"Ingrese un valor numérico válido.\")\n",
        "        i += 1\n",
        "\n",
        "    mayor_valor = numeros[0]\n",
        "    for numero in numeros:\n",
        "        if numero > mayor_valor:\n",
        "            mayor_valor = numero\n",
        "\n",
        "    print(f\"El mayor valor del conjunto es: {mayor_valor}\")\n",
        "\n",
        "encontrar_mayor_valor()\n"
      ],
      "metadata": {
        "colab": {
          "base_uri": "https://localhost:8080/"
        },
        "id": "wzLZ1PObPsxd",
        "outputId": "5a8a6e5a-9665-4f12-f7f6-5e4d94a5e6ae"
      },
      "execution_count": null,
      "outputs": [
        {
          "output_type": "stream",
          "name": "stdout",
          "text": [
            "Ingrese la cantidad de números: 15\n",
            "Ingrese el número 1: 3\n",
            "Ingrese el número 2: 4\n",
            "Ingrese el número 3: 5\n",
            "Ingrese el número 4: 6\n",
            "Ingrese el número 5: 7\n",
            "Ingrese el número 6: 8\n",
            "Ingrese el número 7: 9\n",
            "Ingrese el número 8: 20\n",
            "Ingrese el número 9: 24\n",
            "Ingrese el número 10: 55\n",
            "Ingrese el número 11: 98\n",
            "Ingrese el número 12: 86\n",
            "Ingrese el número 13: 28\n",
            "Ingrese el número 14: 09\n",
            "Ingrese el número 15: 34\n",
            "El mayor valor del conjunto es: 98.0\n"
          ]
        }
      ]
    },
    {
      "cell_type": "markdown",
      "source": [
        "10.En un supermercado un cajero captura los precios de los artículos que los clientes compran e indica a cada cliente cual es el monto de lo que deben pagar. Al final del día le indica a su supervisor cuanto fue lo que cobro en total a todos los clientes que pasaron por su caja"
      ],
      "metadata": {
        "id": "w55XoiTMQBJt"
      }
    },
    {
      "cell_type": "code",
      "source": [
        "\n",
        "\n",
        "def calcular_total_ventas():\n",
        "    \"\"\"Calcula el total de ventas de un cajero en un día.\"\"\"\n",
        "\n",
        "    total_ventas = 0\n",
        "    continuar = True\n",
        "\n",
        "    while continuar:\n",
        "        try:\n",
        "            precio_articulo = float(input(\"Ingrese el precio del artículo (o 0 para terminar): \"))\n",
        "            if precio_articulo < 0:\n",
        "                print(\"El precio no puede ser negativo.\")\n",
        "                continue  # Volver a pedir el precio\n",
        "\n",
        "            if precio_articulo == 0:\n",
        "                continuar = False\n",
        "            else:\n",
        "                total_ventas += precio_articulo\n",
        "                print(f\"Monto actual a pagar: ${total_ventas:.2f}\")\n",
        "\n",
        "        except ValueError:\n",
        "            print(\"Ingrese un valor numérico válido.\")\n",
        "\n",
        "    print(f\"\\nTotal de ventas del día: ${total_ventas:.2f}\")\n",
        "\n",
        "\n",
        "calcular_total_ventas()\n"
      ],
      "metadata": {
        "colab": {
          "base_uri": "https://localhost:8080/"
        },
        "id": "zbxryL9_QE5k",
        "outputId": "2f4358c9-80c2-43f6-93e1-ec42f5382054"
      },
      "execution_count": null,
      "outputs": [
        {
          "output_type": "stream",
          "name": "stdout",
          "text": [
            "Ingrese el precio del artículo (o 0 para terminar): 59000\n",
            "Monto actual a pagar: $59000.00\n",
            "Ingrese el precio del artículo (o 0 para terminar): 2000\n",
            "Monto actual a pagar: $61000.00\n",
            "Ingrese el precio del artículo (o 0 para terminar): 0\n",
            "\n",
            "Total de ventas del día: $61000.00\n"
          ]
        }
      ]
    }
  ],
  "metadata": {
    "colab": {
      "toc_visible": true,
      "provenance": [],
      "include_colab_link": true
    },
    "kernelspec": {
      "display_name": "Python 3",
      "name": "python3"
    }
  },
  "nbformat": 4,
  "nbformat_minor": 0
}