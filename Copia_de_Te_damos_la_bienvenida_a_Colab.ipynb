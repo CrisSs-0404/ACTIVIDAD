{
  "cells": [
    {
      "cell_type": "markdown",
      "metadata": {
        "id": "view-in-github",
        "colab_type": "text"
      },
      "source": [
        "<a href=\"https://colab.research.google.com/github/CrisSs-0404/ACTIVIDAD/blob/main/Copia_de_Te_damos_la_bienvenida_a_Colab.ipynb\" target=\"_parent\"><img src=\"https://colab.research.google.com/assets/colab-badge.svg\" alt=\"Open In Colab\"/></a>"
      ]
    },
    {
      "cell_type": "markdown",
      "source": [
        "[texto del vínculo](https://)# Sección nueva"
      ],
      "metadata": {
        "id": "oTdLemrjA1hX"
      }
    },
    {
      "cell_type": "markdown",
      "source": [
        "# TAREA\n"
      ],
      "metadata": {
        "id": "idgo3MscA4QP"
      }
    },
    {
      "cell_type": "markdown",
      "source": [
        "# Ejercicios Secuenciales"
      ],
      "metadata": {
        "id": "eh1IqBqXBPsn"
      }
    },
    {
      "cell_type": "markdown",
      "source": [
        " 1. Dada un cantidad en pesos, obtener la equivalencia en dólares, asumiendo que la unidad cambiaría es un dato desconocido.\n",
        "\n"
      ],
      "metadata": {
        "id": "pY82aQPE-hlE"
      }
    },
    {
      "cell_type": "code",
      "source": [
        "\n",
        "print(\"5 punto: Calcular el nuevo salario de un obrero si obtuvo un incremento del 25% sobre su salario anterior.\")\n",
        "salario_anterior = float(input(\"Ingrese el salario anterior: \"))\n",
        "nuevo_salario = salario_anterior * 1.25\n",
        "print(f\"Nuevo salario: ${nuevo_salario:.2f}\")\n"
      ],
      "metadata": {
        "colab": {
          "base_uri": "https://localhost:8080/"
        },
        "id": "g_6WhM8mA1_v",
        "outputId": "709553aa-504b-40c8-cc6c-c4f5e825f479"
      },
      "execution_count": null,
      "outputs": [
        {
          "output_type": "stream",
          "name": "stdout",
          "text": [
            "5 punto: Calcular el nuevo salario de un obrero si obtuvo un incremento del 25% sobre su salario anterior.\n",
            "Ingrese el salario anterior: 5\n",
            "Nuevo salario: $6.25\n"
          ]
        }
      ]
    },
    {
      "cell_type": "code",
      "source": [
        "\n",
        "\n",
        "numero = float(input(\"Ingrese un número: \"))\n",
        "valor_absoluto = abs(numero)\n",
        "print(f\"El valor absoluto de {numero} es {valor_absoluto}\")\n"
      ],
      "metadata": {
        "colab": {
          "base_uri": "https://localhost:8080/"
        },
        "id": "p4RL-MsFBWpP",
        "outputId": "2aa35b46-99c8-4bb3-b79c-dd8801a79511"
      },
      "execution_count": null,
      "outputs": [
        {
          "output_type": "stream",
          "name": "stdout",
          "text": [
            "Ingrese un número: -6\n",
            "El valor absoluto de -6.0 es 6.0\n"
          ]
        }
      ]
    },
    {
      "cell_type": "code",
      "source": [
        "\n",
        "\n",
        "def calcular_masa(presion, volumen, temperatura):\n",
        "  \"\"\"Calcula la masa de aire utilizando la fórmula proporcionada.\n",
        "\n",
        "  Args:\n",
        "    presion: La presión del aire.\n",
        "    volumen: El volumen del aire.\n",
        "    temperatura: La temperatura del aire.\n",
        "\n",
        "  Returns:\n",
        "    La masa del aire.\n",
        "  \"\"\"\n",
        "  masa = (presion * volumen) / (0.37 * (temperatura + 460))\n",
        "  return masa\n",
        "\n",
        "presion = float(input(\"Ingrese la presión: \"))\n",
        "volumen = float(input(\"Ingrese el volumen: \"))\n",
        "temperatura = float(input(\"Ingrese la temperatura: \"))\n",
        "\n",
        "masa = calcular_masa(presion, volumen, temperatura)\n",
        "print(f\"La masa de aire es: {masa}\")\n"
      ],
      "metadata": {
        "colab": {
          "base_uri": "https://localhost:8080/"
        },
        "id": "lvfI5E8QBfg_",
        "outputId": "20c939ef-ccbe-487d-c222-d305f421f1ef"
      },
      "execution_count": null,
      "outputs": [
        {
          "output_type": "stream",
          "name": "stdout",
          "text": [
            "Ingrese la presión: 9\n",
            "Ingrese el volumen: 3\n",
            "Ingrese la temperatura: 5\n",
            "La masa de aire es: 0.15693112467306014\n"
          ]
        }
      ]
    },
    {
      "cell_type": "code",
      "source": [
        "\n",
        "\n",
        "edad = int(input(\"Ingrese la edad: \"))\n",
        "pulsaciones = (220 - edad) / 10\n",
        "print(f\"Número de pulsaciones por cada 10 segundos de ejercicio: {pulsaciones}\")\n"
      ],
      "metadata": {
        "colab": {
          "base_uri": "https://localhost:8080/"
        },
        "id": "dj23zKqWBpun",
        "outputId": "59dc25a8-c0a4-4d2e-8cb0-c8e4d3a193b8"
      },
      "execution_count": null,
      "outputs": [
        {
          "output_type": "stream",
          "name": "stdout",
          "text": [
            "Ingrese la edad: 9\n",
            "Número de pulsaciones por cada 10 segundos de ejercicio: 21.1\n"
          ]
        }
      ]
    },
    {
      "cell_type": "code",
      "source": [
        "\n",
        "\n",
        "salario_anterior = float(input(\"Ingrese el salario anterior: \"))\n",
        "nuevo_salario = salario_anterior * 1.25\n",
        "print(f\"Nuevo salario: ${nuevo_salario:.2f}\")\n"
      ],
      "metadata": {
        "colab": {
          "base_uri": "https://localhost:8080/"
        },
        "id": "fSOSH4bnB0HX",
        "outputId": "0c6fcf1e-a05c-4f86-beb6-4322843a2672"
      },
      "execution_count": null,
      "outputs": [
        {
          "output_type": "stream",
          "name": "stdout",
          "text": [
            "Ingrese el salario anterior: 5\n",
            "Nuevo salario: $6.25\n"
          ]
        }
      ]
    },
    {
      "cell_type": "code",
      "source": [
        "\n",
        "\n",
        "\n",
        "def presupuesto_hospital(presupuesto_total):\n",
        "  \"\"\"Calcula el presupuesto para cada área del hospital.\n",
        "\n",
        "  Args:\n",
        "    presupuesto_total: El presupuesto anual total del hospital.\n",
        "\n",
        "  Returns:\n",
        "    Un diccionario con el presupuesto para cada área.\n",
        "  \"\"\"\n",
        "\n",
        "  ginecologia = presupuesto_total * 0.40\n",
        "  traumatologia = presupuesto_total * 0.30\n",
        "  pediatria = presupuesto_total * 0.30\n",
        "\n",
        "  return {\n",
        "      \"Ginecología\": ginecologia,\n",
        "      \"Traumatología\": traumatologia,\n",
        "      \"Pediatría\": pediatria\n",
        "  }\n",
        "\n",
        "\n",
        "presupuesto_anual = float(input(\"Ingrese el presupuesto anual del hospital: \"))\n",
        "presupuestos_areas = presupuesto_hospital(presupuesto_anual)\n",
        "\n",
        "print(\"\\nPresupuesto por área:\")\n",
        "for area, presupuesto in presupuestos_areas.items():\n",
        "  print(f\"{area}: ${presupuesto:.2f}\")\n"
      ],
      "metadata": {
        "colab": {
          "base_uri": "https://localhost:8080/"
        },
        "id": "UwdRbRyoCBbn",
        "outputId": "d56de7de-61ec-40c6-b9ac-049b37d09c81"
      },
      "execution_count": null,
      "outputs": [
        {
          "output_type": "stream",
          "name": "stdout",
          "text": [
            "Ingrese el presupuesto anual del hospital: 9\n",
            "\n",
            "Presupuesto por área:\n",
            "Ginecología: $3.60\n",
            "Traumatología: $2.70\n",
            "Pediatría: $2.70\n"
          ]
        }
      ]
    },
    {
      "cell_type": "code",
      "source": [
        "\n",
        "\n",
        "def calcular_precio_venta(precio_compra):\n",
        "  \"\"\"Calcula el precio de venta de un artículo para obtener una ganancia del 30%.\n",
        "\n",
        "  Args:\n",
        "    precio_compra: El precio al que se compró el artículo.\n",
        "\n",
        "  Returns:\n",
        "    El precio de venta del artículo.\n",
        "  \"\"\"\n",
        "  precio_venta = precio_compra * 1.30\n",
        "  return precio_venta\n",
        "\n",
        "\n",
        "precio_compra = float(input(\"Ingrese el precio de compra del artículo: \"))\n",
        "precio_venta = calcular_precio_venta(precio_compra)\n",
        "print(f\"El precio de venta para obtener una ganancia del 30% es: ${precio_venta:.2f}\")\n"
      ],
      "metadata": {
        "colab": {
          "base_uri": "https://localhost:8080/"
        },
        "id": "WsCPHXWeCJlv",
        "outputId": "bde6c2f9-be74-429c-9cd9-c375cb8b9348"
      },
      "execution_count": null,
      "outputs": [
        {
          "output_type": "stream",
          "name": "stdout",
          "text": [
            "Ingrese el precio de compra del artículo: 90\n",
            "El precio de venta para obtener una ganancia del 30% es: $117.00\n"
          ]
        }
      ]
    },
    {
      "cell_type": "code",
      "source": [
        "\n",
        "def calcular_tiempo_promedio():\n",
        "    \"\"\"Calcula el tiempo promedio de una ruta en una semana.\"\"\"\n",
        "\n",
        "    tiempos = []\n",
        "    for dia in range(7):\n",
        "        if dia == 0 or dia == 2 or dia == 4:\n",
        "            tiempo = float(input(f\"Ingrese el tiempo de la ruta del día {dia + 1} (en minutos): \"))\n",
        "            tiempos.append(tiempo)\n",
        "\n",
        "    if tiempos:\n",
        "        tiempo_promedio = sum(tiempos) / len(tiempos)\n",
        "        print(f\"El tiempo promedio de la ruta en la semana es: {tiempo_promedio:.2f} minutos\")\n",
        "    else:\n",
        "        print(\"No se ingresaron tiempos para los días de carrera.\")\n",
        "\n",
        "calcular_tiempo_promedio()\n"
      ],
      "metadata": {
        "colab": {
          "base_uri": "https://localhost:8080/"
        },
        "id": "dNm3Pl4QCQK3",
        "outputId": "df5e9419-3790-4498-8715-71bdaf7b44b3"
      },
      "execution_count": null,
      "outputs": [
        {
          "output_type": "stream",
          "name": "stdout",
          "text": [
            "Ingrese el tiempo de la ruta del día 1 (en minutos): 9\n",
            "Ingrese el tiempo de la ruta del día 3 (en minutos): 6\n",
            "Ingrese el tiempo de la ruta del día 5 (en minutos): 2\n",
            "El tiempo promedio de la ruta en la semana es: 5.67 minutos\n"
          ]
        }
      ]
    },
    {
      "cell_type": "code",
      "source": [
        "\n",
        "def calcular_porcentaje_inversion():\n",
        "    \"\"\"Calcula el porcentaje de inversión de cada persona.\"\"\"\n",
        "\n",
        "    inversiones = []\n",
        "    for i in range(3):\n",
        "        while True:\n",
        "            try:\n",
        "                inversion = float(input(f\"Ingrese la inversión de la persona {i+1}: \"))\n",
        "                if inversion > 0:\n",
        "                    inversiones.append(inversion)\n",
        "                    break\n",
        "                else:\n",
        "                    print(\"La inversión debe ser un valor positivo.\")\n",
        "            except ValueError:\n",
        "                print(\"Ingrese un valor numérico válido.\")\n",
        "\n",
        "    total_inversion = sum(inversiones)\n",
        "\n",
        "    for i in range(3):\n",
        "        porcentaje = (inversiones[i] / total_inversion) * 100\n",
        "        print(f\"La persona {i+1} invirtió el {porcentaje:.2f}% del total.\")\n",
        "\n",
        "calcular_porcentaje_inversion()\n"
      ],
      "metadata": {
        "colab": {
          "base_uri": "https://localhost:8080/"
        },
        "id": "zLC-LNVxCbdf",
        "outputId": "823bd662-6d60-44dd-c703-a610d3c356fc"
      },
      "execution_count": null,
      "outputs": [
        {
          "output_type": "stream",
          "name": "stdout",
          "text": [
            "Ingrese la inversión de la persona 1: 9\n",
            "Ingrese la inversión de la persona 2: 8\n",
            "Ingrese la inversión de la persona 3: 5\n",
            "La persona 1 invirtió el 40.91% del total.\n",
            "La persona 2 invirtió el 36.36% del total.\n",
            "La persona 3 invirtió el 22.73% del total.\n"
          ]
        }
      ]
    },
    {
      "cell_type": "code",
      "source": [
        "\n",
        "\n",
        "def calificacion_matematicas():\n",
        "  examen = float(input(\"Ingrese la calificación del examen de matemáticas (0-100): \"))\n",
        "  tarea1 = float(input(\"Ingrese la calificación de la tarea 1 (0-100): \"))\n",
        "  tarea2 = float(input(\"Ingrese la calificación de la tarea 2 (0-100): \"))\n",
        "  tarea3 = float(input(\"Ingrese la calificación de la tarea 3 (0-100): \"))\n",
        "  promedio_tareas = (tarea1 + tarea2 + tarea3) / 3\n",
        "  calificacion_final = (examen * 0.9) + (promedio_tareas * 0.1)\n",
        "  return calificacion_final\n",
        "\n",
        "def calificacion_fisica():\n",
        "  examen = float(input(\"Ingrese la calificación del examen de física (0-100): \"))\n",
        "  tarea1 = float(input(\"Ingrese la calificación de la tarea 1 (0-100): \"))\n",
        "  tarea2 = float(input(\"Ingrese la calificación de la tarea 2 (0-100): \"))\n",
        "  promedio_tareas = (tarea1 + tarea2) / 2\n",
        "  calificacion_final = (examen * 0.8) + (promedio_tareas * 0.2)\n",
        "  return calificacion_final\n",
        "\n",
        "def calificacion_quimica():\n",
        "  examen = float(input(\"Ingrese la calificación del examen de química (0-100): \"))\n",
        "  tarea1 = float(input(\"Ingrese la calificación de la tarea 1 (0-100): \"))\n",
        "  tarea2 = float(input(\"Ingrese la calificación de la tarea 2 (0-100): \"))\n",
        "  tarea3 = float(input(\"Ingrese la calificación de la tarea 3 (0-100): \"))\n",
        "  promedio_tareas = (tarea1 + tarea2 + tarea3) / 3\n",
        "  calificacion_final = (examen * 0.85) + (promedio_tareas * 0.15)\n",
        "  return calificacion_final\n",
        "\n",
        "calif_matematicas = calificacion_matematicas()\n",
        "calif_fisica = calificacion_fisica()\n",
        "calif_quimica = calificacion_quimica()\n",
        "\n",
        "promedio_general = (calif_matematicas + calif_fisica + calif_quimica) / 3\n",
        "\n",
        "print(f\"Calificación en Matemáticas: {calif_matematicas}\")\n",
        "print(f\"Calificación en Física: {calif_fisica}\")\n",
        "print(f\"Calificación en Química: {calif_quimica}\")\n",
        "print(f\"Promedio general: {promedio_general}\")\n"
      ],
      "metadata": {
        "colab": {
          "base_uri": "https://localhost:8080/"
        },
        "id": "RHkMvDDbCvKn",
        "outputId": "7f61ccbd-b222-4603-85bd-dc13c31ceaee"
      },
      "execution_count": null,
      "outputs": [
        {
          "output_type": "stream",
          "name": "stdout",
          "text": [
            "Ingrese la calificación del examen de matemáticas (0-100): 50\n",
            "Ingrese la calificación de la tarea 1 (0-100): 35\n",
            "Ingrese la calificación de la tarea 2 (0-100): 90\n",
            "Ingrese la calificación de la tarea 3 (0-100): 50\n",
            "Ingrese la calificación del examen de física (0-100): 25\n",
            "Ingrese la calificación de la tarea 1 (0-100): 10\n",
            "Ingrese la calificación de la tarea 2 (0-100): 35\n",
            "Ingrese la calificación del examen de química (0-100): 45\n",
            "Ingrese la calificación de la tarea 1 (0-100): 25\n",
            "Ingrese la calificación de la tarea 2 (0-100): 16\n",
            "Ingrese la calificación de la tarea 3 (0-100): 2\n",
            "Calificación en Matemáticas: 50.833333333333336\n",
            "Calificación en Física: 24.5\n",
            "Calificación en Química: 40.4\n",
            "Promedio general: 38.57777777777778\n"
          ]
        }
      ]
    },
    {
      "cell_type": "markdown",
      "source": [
        "# Ejercicios Condicionales simples"
      ],
      "metadata": {
        "id": "KRkCg_FfC9iX"
      }
    },
    {
      "cell_type": "code",
      "source": [
        "\n",
        "\n",
        "def calcular_total_llantas(num_llantas):\n",
        "  \"\"\"Calcula el total a pagar por la compra de llantas.\n",
        "\n",
        "  Args:\n",
        "    num_llantas: El número de llantas que se compran.\n",
        "\n",
        "  Returns:\n",
        "    El total a pagar.\n",
        "  \"\"\"\n",
        "  if num_llantas < 5:\n",
        "    precio_unitario = 800\n",
        "  else:\n",
        "    precio_unitario = 700\n",
        "  return num_llantas * precio_unitario\n",
        "\n",
        "\n",
        "numero_llantas = int(input(\"Ingrese el número de llantas a comprar: \"))\n",
        "total_pagar = calcular_total_llantas(numero_llantas)\n",
        "print(f\"El total a pagar es: ${total_pagar}\")\n"
      ],
      "metadata": {
        "colab": {
          "base_uri": "https://localhost:8080/"
        },
        "id": "nC06poEKC_yH",
        "outputId": "defa9497-54bc-4f9e-e6a7-dc3f54b49675"
      },
      "execution_count": null,
      "outputs": [
        {
          "output_type": "stream",
          "name": "stdout",
          "text": [
            "Ingrese el número de llantas a comprar: 9\n",
            "El total a pagar es: $6300\n"
          ]
        }
      ]
    },
    {
      "cell_type": "code",
      "source": [
        "\n",
        "\n",
        "total_compra = float(input(\"Ingrese el total de la compra: \"))\n",
        "numero_aleatorio = int(input(\"Ingrese el número aleatorio (1-100): \"))\n",
        "\n",
        "if numero_aleatorio < 74:\n",
        "  descuento = total_compra * 0.15\n",
        "else:\n",
        "  descuento = total_compra * 0.20\n",
        "\n",
        "print(f\"El descuento aplicado es de: ${descuento:.2f}\")\n"
      ],
      "metadata": {
        "colab": {
          "base_uri": "https://localhost:8080/"
        },
        "id": "gRGzeUGODI73",
        "outputId": "b88d567f-0740-41b2-c1db-6634fb2e8da8"
      },
      "execution_count": null,
      "outputs": [
        {
          "output_type": "stream",
          "name": "stdout",
          "text": [
            "Ingrese el total de la compra: 9\n",
            "Ingrese el número aleatorio (1-100): 5\n",
            "El descuento aplicado es de: $1.35\n"
          ]
        }
      ]
    },
    {
      "cell_type": "code",
      "source": [
        "\n",
        "\n",
        "total_compra = float(input(\"Ingrese el total de la compra: \"))\n",
        "numero_aleatorio = int(input(\"Ingrese el número aleatorio (1-100): \"))\n",
        "\n",
        "if numero_aleatorio < 74:\n",
        "  descuento = total_compra * 0.15\n",
        "else:\n",
        "  descuento = total_compra * 0.20\n",
        "\n",
        "print(f\"El descuento aplicado es de: ${descuento:.2f}\")\n"
      ],
      "metadata": {
        "colab": {
          "base_uri": "https://localhost:8080/"
        },
        "id": "t8HyOxHeDWP4",
        "outputId": "4d7e8126-db25-48d6-ca9d-14716ec5ff46"
      },
      "execution_count": null,
      "outputs": [
        {
          "output_type": "stream",
          "name": "stdout",
          "text": [
            "Ingrese el total de la compra: 50\n",
            "Ingrese el número aleatorio (1-100): 3\n",
            "El descuento aplicado es de: $7.50\n"
          ]
        }
      ]
    },
    {
      "cell_type": "code",
      "source": [
        "\n",
        "def calcular_cuota(monto_fianza):\n",
        "  \"\"\"Calcula la cuota a pagar por una fianza.\n",
        "\n",
        "  Args:\n",
        "    monto_fianza: El monto de la fianza.\n",
        "\n",
        "  Returns:\n",
        "    La cuota a pagar.\n",
        "  \"\"\"\n",
        "  if monto_fianza < 50000:\n",
        "    cuota = monto_fianza * 0.03\n",
        "  else:\n",
        "    cuota = monto_fianza * 0.02\n",
        "  return cuota\n",
        "\n",
        "monto = float(input(\"Ingrese el monto de la fianza: \"))\n",
        "cuota = calcular_cuota(monto)\n",
        "print(f\"La cuota a pagar es: ${cuota:.2f}\")\n"
      ],
      "metadata": {
        "colab": {
          "base_uri": "https://localhost:8080/"
        },
        "id": "Lnqx9aJkDc_g",
        "outputId": "53d5b632-f272-428a-da67-d91c2a0dafc6"
      },
      "execution_count": null,
      "outputs": [
        {
          "output_type": "stream",
          "name": "stdout",
          "text": [
            "Ingrese el monto de la fianza: 25\n",
            "La cuota a pagar es: $0.75\n"
          ]
        }
      ]
    },
    {
      "cell_type": "code",
      "source": [
        "\n",
        "\n",
        "def calcular_colegiatura():\n",
        "    \"\"\"Calcula la colegiatura de un alumno según el número de materias y promedio.\"\"\"\n",
        "\n",
        "    num_materias = int(input(\"Ingrese el número de materias: \"))\n",
        "    costo_materia = float(input(\"Ingrese el costo por materia: \"))\n",
        "    promedio = float(input(\"Ingrese el promedio del último periodo: \"))\n",
        "\n",
        "    colegiatura_base = num_materias * costo_materia\n",
        "\n",
        "    if promedio >= 9:\n",
        "        colegiatura_final = colegiatura_base * 0.70\n",
        "    else:\n",
        "        colegiatura_final = colegiatura_base * 1.10\n",
        "\n",
        "    print(f\"La colegiatura a pagar es: ${colegiatura_final:.2f}\")\n",
        "\n",
        "\n",
        "calcular_colegiatura()\n"
      ],
      "metadata": {
        "id": "FapMGoliE7jv",
        "colab": {
          "base_uri": "https://localhost:8080/"
        },
        "outputId": "807b4546-aab8-4b69-af5a-000aee2b7fd9"
      },
      "execution_count": null,
      "outputs": [
        {
          "output_type": "stream",
          "name": "stdout",
          "text": [
            "Ingrese el número de materias: 5\n",
            "Ingrese el costo por materia: 688\n",
            "Ingrese el promedio del último periodo: 7\n",
            "La colegiatura a pagar es: $3784.00\n"
          ]
        }
      ]
    },
    {
      "cell_type": "markdown",
      "source": [
        "6) Una empresa de bienes raíces ofrece casas de interés social, bajo las siguientes condiciones: Si los ingresos del comprador son menores de $8000 o mas el enganche será del 15% del costo de la casa y el resto se distribuirá en pagos mensuales, a pagar en diez años. Si los ingresos del comprador son de $8000 o mas el enganche será del 30% del costo de la casa y el resto se distribuirá en pagos mensuales a pagar en 7 años.\n",
        "\tLa empresa quiere obtener cuanto debe pagar un comprador por concepto de enganche y cuanto por cada pago parcial.\n"
      ],
      "metadata": {
        "id": "Rn_WPDyg_o2S"
      }
    },
    {
      "cell_type": "code",
      "source": [
        "\n",
        "def calcular_pagos_casa():\n",
        "    \"\"\"Calcula el enganche y pagos mensuales para la compra de una casa.\"\"\"\n",
        "\n",
        "    ingresos = float(input(\"Ingrese los ingresos mensuales del comprador: \"))\n",
        "    costo_casa = float(input(\"Ingrese el costo de la casa: \"))\n",
        "\n",
        "    if ingresos < 8000:\n",
        "        enganche = costo_casa * 0.15\n",
        "        plazo_meses = 10 * 12\n",
        "    else:\n",
        "        enganche = costo_casa * 0.30\n",
        "        plazo_meses = 7 * 12  # 7 años a meses\n",
        "\n",
        "    saldo_restante = costo_casa - enganche\n",
        "    pago_mensual = saldo_restante / plazo_meses\n",
        "\n",
        "    print(f\"Enganche: ${enganche:.2f}\")\n",
        "    print(f\"Pago mensual: ${pago_mensual:.2f}\")\n",
        "\n",
        "calcular_pagos_casa()\n"
      ],
      "metadata": {
        "id": "8yNy5E5Q_4P4"
      },
      "execution_count": null,
      "outputs": []
    }
  ],
  "metadata": {
    "colab": {
      "toc_visible": true,
      "provenance": [],
      "include_colab_link": true
    },
    "kernelspec": {
      "display_name": "Python 3",
      "name": "python3"
    }
  },
  "nbformat": 4,
  "nbformat_minor": 0
}